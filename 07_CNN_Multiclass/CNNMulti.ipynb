{
 "cells": [
  {
   "cell_type": "code",
   "metadata": {
    "id": "FaadnhbpCcsh",
    "ExecuteTime": {
     "end_time": "2024-10-24T14:53:25.075195Z",
     "start_time": "2024-10-24T14:53:25.064130Z"
    }
   },
   "source": [
    "import torch\n",
    "import torch.nn as nn\n",
    "\n",
    "from torchvision import datasets, transforms\n",
    "import torch.optim as optim\n",
    "\n",
    "import matplotlib.pyplot as plt\n",
    "from sklearn.metrics import accuracy_score\n",
    "\n",
    "from tqdm.auto import tqdm\n"
   ],
   "outputs": [],
   "execution_count": 37
  },
  {
   "cell_type": "markdown",
   "metadata": {
    "id": "Ly7lrx-gCuLy"
   },
   "source": [
    "# Xarxes convolucionals multiclasse\n",
    "\n",
    "Aquesta pràctica està enfocada en l'extensió dels conceptes apresos anteriorment sobre les xarxes neuronals convolucionals (CNN) aplicades a la classificació binària. En la sessió passada, vam treballar amb problemes de classificació on només hi havia dues categories possibles. Ara farem un pas més endavant i ens centrarem en els problemes de classificació multiclasse, on un conjunt de dades pot tenir més de dues classes o categories possibles.\n",
    "\n",
    "L'objectiu d'aquesta pràctica és entendre com les CNN poden adaptar-se a problemes multiclasse, i com els canvis en l'arquitectura, la funció de pèrdua i el processament de sortida permeten gestionar aquesta complexitat addicional. A més, explorarem les estratègies més adequades per a l'entrenament de models en aquest context, i veurem com interpretar els resultats obtinguts en un escenari amb múltiples categories.\n",
    "\n",
    "Aquesta pràctica proporcionarà una base sòlida per abordar problemes de classificació en aplicacions reals, com ara el reconeixement d'imatges amb més d'una etiqueta possible.\n",
    "\n",
    "## Dades\n",
    "\n",
    "El conjunt de dades [Fashion MNIST](https://github.com/zalandoresearch/fashion-mnist) és una versió alternativa al MNIST, que consisteix en imatges de roba en lloc de dígits escrits a mà. És un conjunt de dades de classificació multiclasse molt utilitzat per a tasques d'aprenentatge automàtic i visió per computador, i s'ha convertit en un estàndard per provar models de xarxes neuronals.\n",
    "\n",
    "El conjunt conté un total de 70.000 imatges en escala de grisos, cadascuna amb una mida de 28x28 píxels, distribuïdes en 10 categories diferents de peces de vestir, com per exemple samarretes, pantalons, sabates, i altres articles de moda. Hi ha 60.000 imatges per a entrenament i 10.000 per a proves.\n",
    "\n",
    "Cada imatge està etiquetada amb un valor entre 0 i 9, que correspon a un tipus de roba.\n",
    "\n",
    "![Exemples de Fashion MNIST](https://raw.githubusercontent.com/zalandoresearch/fashion-mnist/master/doc/img/fashion-mnist-sprite.png)\n",
    "\n",
    "\n"
   ]
  },
  {
   "cell_type": "code",
   "metadata": {
    "id": "PwSoPhjXCvV9",
    "ExecuteTime": {
     "end_time": "2024-10-24T14:53:25.151918Z",
     "start_time": "2024-10-24T14:53:25.095853Z"
    }
   },
   "source": [
    "DOWNLOAD = True\n",
    "BATCH_SIZE = 64\n",
    "EPOCHS = 5\n",
    "\n",
    "transform = transforms.Compose([\n",
    "    transforms.ToTensor(),\n",
    "])\n",
    "\n",
    "\n",
    "train= datasets.FashionMNIST(\"../data\", train=True, download=DOWNLOAD, transform=transform)\n",
    "test=datasets.FashionMNIST(\"../data\", train=False, download=DOWNLOAD, transform=transform)\n",
    "\n",
    "train_loader = torch.utils.data.DataLoader(train, BATCH_SIZE)\n",
    "test_loader = torch.utils.data.DataLoader(test, BATCH_SIZE)"
   ],
   "outputs": [],
   "execution_count": 38
  },
  {
   "cell_type": "code",
   "metadata": {
    "ExecuteTime": {
     "end_time": "2024-10-24T14:53:25.190091Z",
     "start_time": "2024-10-24T14:53:25.176236Z"
    }
   },
   "source": [
    "img, target = next(iter(train_loader))\n",
    "print(img.shape)"
   ],
   "outputs": [
    {
     "name": "stdout",
     "output_type": "stream",
     "text": [
      "torch.Size([64, 1, 28, 28])\n"
     ]
    }
   ],
   "execution_count": 39
  },
  {
   "cell_type": "markdown",
   "metadata": {},
   "source": [
    "## Definició de la xarxa\n",
    "\n",
    "En primer lloc, declaram una xarxa (CNN) partim de la que vàreu emprar ahir amb en Biel:"
   ]
  },
  {
   "cell_type": "code",
   "metadata": {
    "ExecuteTime": {
     "end_time": "2024-10-24T14:53:25.222726Z",
     "start_time": "2024-10-24T14:53:25.212270Z"
    }
   },
   "source": [
    "model_cnn = nn.Sequential(\n",
    "    # 1a capa convolucional: pasa fotos de 1x28x28 a 4x28x28\n",
    "    torch.nn.Conv2d(in_channels= 1, out_channels= 4, kernel_size=(3,3), stride=1, padding=\"same\"),\n",
    "    torch.nn.MaxPool2d(kernel_size=(2,2)),\n",
    "    torch.nn.ReLU(),\n",
    "    # 2a capa convolucional: pasa fotos de 4x14x14 a 8x14x14\n",
    "    torch.nn.Conv2d(in_channels= 4, out_channels= 8, kernel_size=(3,3), stride=1, padding=\"same\"),\n",
    "    torch.nn.MaxPool2d(kernel_size=(2,2)),\n",
    "    torch.nn.ReLU(),\n",
    "\n",
    "    torch.nn.Flatten(1),\n",
    "    # 1a capa totalment connectada: pasa fotos de 8x7x7 a 392\n",
    "    torch.nn.Linear(392, 196),\n",
    "    nn.ReLU(),\n",
    "    torch.nn.Linear(196, 60),\n",
    "    nn.ReLU(),\n",
    "    torch.nn.Linear(60, 10),\n",
    ")"
   ],
   "outputs": [],
   "execution_count": 40
  },
  {
   "cell_type": "markdown",
   "metadata": {
    "id": "s8i4Mg8KuD3r"
   },
   "source": "**Per poder resoldre el problema d'avui s'ha de modificar**\n"
  },
  {
   "cell_type": "markdown",
   "metadata": {},
   "source": [
    "## Entrenament CNN\n",
    "\n",
    "Ara partint de l'entrenament d'ahir heu d'adaptar-lo a multiclasse. Per fer-ho hem de canviar tot un conjunt d'elements:\n",
    "\n",
    "-   **Funció de pèrdua**. La funció de pèrdua que hem emprat fins ara està especialment dissenyada per problemes binaris hem trobar-ne una que serveixi per multiclasse. La funció que hem emprat [``BCEWithLogits``](https://pytorch.org/docs/stable/generated/torch.nn.BCEWithLogitsLoss.html) (binary cross entropy) a més té una peculiaritat: inclou una funció Sigmoide. A la plana de [pytorch](https://pytorch.org/docs/stable/nn.html#loss-functions) podreu veure totes les funcions de pèrdua que hi ha.\n",
    "-   **Sortida de la xarxa**. La xarxa ha de retornar una codificació adequada per més de dues classes.\n",
    "\n",
    "Les funcions sigmoide i softmax són dues funcions d'activació molt utilitzades en xarxes neuronals, especialment en tasques de classificació, però tenen aplicacions diferents\n",
    "segons el tipus de problema.\n",
    "\n",
    "### Funció Sigmoide\n",
    "\n",
    "La funció sigmoide es defineix com:\n",
    "\n",
<<<<<<< Updated upstream
    "$$\\sigma(X) = \\frac{1}{1+e^{-x}}$$\n",
=======
    "$$\\sigma(X) = \\frac{1}{1+e^-x}$$\n",
>>>>>>> Stashed changes
    "\n",
    "**Aquesta funció pren qualsevol valor real d'entrada i el transforma en un valor comprès entre 0 i 1.** Per aquest motiu, s'utilitza principalment en problemes de classificació binària, on l'objectiu és assignar una de dues possibles classes. La sortida de la funció sigmoide es pot interpretar com una probabilitat, fent que sigui especialment útil per a la sortida d'una xarxa neuronal en problemes on es busca predir una classe binària (0 o 1).\n",
    "\n",
    "### Funció Softmax\n",
    "\n",
    "La funció softmax s'utilitza en problemes de classificació multiclasse. Aquesta funció pren un vector d'entrades (generalment els valors generats a la sortida d'una capa final d'una xarxa neuronal) i el transforma en una distribució de probabilitats, assegurant que la suma de les probabilitats sigui igual a 1. La seva fórmula és:\n",
    "\n",
    "$$SM(x_i) = \\frac{e^x_i}{\\sum^n_{j=1} e^{x_j}}$$\n",
    "\n",
    "Aquí, $x_i$ és un dels valors de la sortida, i la funció calcula la probabilitat de cada classe relativa a les altres. Això fa que softmax sigui ideal per a problemes de classificació amb múltiples categories, ja que converteix els valors de la sortida en probabilitats que es poden utilitzar per predir quina és la classe més probable.\n",
    "\n",
    "En resum:\n",
    "\n",
    "- Sigmoide: útil per a classificació binària, genera una sortida entre 0 i 1.\n",
    "- Softmax: s'utilitza en classificació multiclasse, distribueix probabilitats entre totes les classes.\n"
   ]
  },
  {
   "metadata": {},
   "cell_type": "markdown",
   "source": ""
  },
  {
   "cell_type": "code",
   "metadata": {
    "ExecuteTime": {
     "end_time": "2024-10-24T14:53:25.250048Z",
     "start_time": "2024-10-24T14:53:25.244046Z"
    }
   },
   "source": [
    "loss_fn = nn.CrossEntropyLoss()\n",
    "learning_rate = 1e-3  # Hiperparàmetre\n",
    "optimizer = optim.Adam(model_cnn.parameters(), lr=learning_rate)\n",
    "\n",
    "running_loss = []\n",
    "running_acc = []\n",
    "\n",
    "running_test_loss = []\n",
    "running_test_acc_cnn = []"
   ],
   "outputs": [],
   "execution_count": 41
  },
  {
   "metadata": {
    "ExecuteTime": {
     "end_time": "2024-10-24T14:54:37.620755Z",
     "start_time": "2024-10-24T14:53:25.271866Z"
    }
   },
   "cell_type": "code",
   "source": [
    "for t in tqdm(range(EPOCHS), desc=\"Èpoques\"):\n",
    "    batch_loss = 0\n",
    "    batch_acc = 0\n",
    "    \n",
    "    i_batch = 1\n",
    "    # Iteram els batches.\n",
    "    for i_batch, (x, y) in tqdm(enumerate(train_loader), desc=f\"Batches (Època {t + 1})\"):\n",
    "        model_cnn.train()  # Posam el model a mode entranament.\n",
    "\n",
    "        optimizer.zero_grad()\n",
    "\n",
    "        # 1. PREDICCIÓ\n",
    "\n",
    "        y_pred = model_cnn(x)\n",
    "\n",
    "\n",
    "        # 2. CALCUL DE LA PÈRDUA\n",
    "        # Computa la pèrdua: l'error de predicció vs el valor correcte\n",
    "        # Es guarda la pèrdua en un array per futures visualitzacions\n",
    "\n",
    "        loss = loss_fn(y_pred, y)\n",
    "\n",
    "        #3. GRADIENT\n",
    "        model_cnn.zero_grad()\n",
    "        loss.backward()\n",
    "\n",
    "        # Actualitza els pesos utilitzant l'algorisme d'actualització\n",
    "        #4. OPTIMITZACIO\n",
    "        with torch.no_grad():\n",
    "            optimizer.step()\n",
    "\n",
    "        # 5. EVALUAM EL MODEL\n",
    "        model_cnn.eval()  # Mode avaluació de la xarxa\n",
    "        acc = accuracy_score(y, y_pred.argmax(dim=1))\n",
    "        batch_acc += acc\n",
    "        batch_loss += loss.detach()\n",
    "\n",
    "    running_loss.append(batch_loss / (i_batch + 1))\n",
    "    running_acc.append(batch_acc / (i_batch + 1))\n",
    "\n",
    "    batch_test_loss = 0\n",
    "    batch_test_acc = 0\n",
    "\n",
    "    for i_batch, (x, y) in enumerate(test_loader):\n",
    "\n",
    "        y_pred = model_cnn(x)\n",
    "\n",
    "        batch_test_loss += (loss_fn(y_pred, y).detach())\n",
    "        acc = accuracy_score(y, y_pred.argmax(dim=1))\n",
    "        batch_test_acc += acc\n",
    "\n",
    "    running_test_loss.append(batch_test_loss / (i_batch + 1))\n",
    "    running_test_acc_cnn.append(batch_test_acc / (i_batch + 1))"
   ],
   "outputs": [
    {
     "data": {
      "text/plain": [
       "Èpoques:   0%|          | 0/5 [00:00<?, ?it/s]"
      ],
      "application/vnd.jupyter.widget-view+json": {
       "version_major": 2,
       "version_minor": 0,
       "model_id": "3994d198337946d8ad4da4bb63f9031e"
      }
     },
     "metadata": {},
     "output_type": "display_data"
    },
    {
     "data": {
      "text/plain": [
       "Batches (Època 1): 0it [00:00, ?it/s]"
      ],
      "application/vnd.jupyter.widget-view+json": {
       "version_major": 2,
       "version_minor": 0,
       "model_id": "29ff61e7a273452a820b594ed24f510e"
      }
     },
     "metadata": {},
     "output_type": "display_data"
    },
    {
     "data": {
      "text/plain": [
       "Batches (Època 2): 0it [00:00, ?it/s]"
      ],
      "application/vnd.jupyter.widget-view+json": {
       "version_major": 2,
       "version_minor": 0,
       "model_id": "6a51bab0547247f99c7b785d122d2ef3"
      }
     },
     "metadata": {},
     "output_type": "display_data"
    },
    {
     "data": {
      "text/plain": [
       "Batches (Època 3): 0it [00:00, ?it/s]"
      ],
      "application/vnd.jupyter.widget-view+json": {
       "version_major": 2,
       "version_minor": 0,
       "model_id": "4ec3183348cf4ba69ad6207bb59f6b28"
      }
     },
     "metadata": {},
     "output_type": "display_data"
    },
    {
     "data": {
      "text/plain": [
       "Batches (Època 4): 0it [00:00, ?it/s]"
      ],
      "application/vnd.jupyter.widget-view+json": {
       "version_major": 2,
       "version_minor": 0,
       "model_id": "fb45b0a0849e44b0b35c3284232fbed8"
      }
     },
     "metadata": {},
     "output_type": "display_data"
    },
    {
     "data": {
      "text/plain": [
       "Batches (Època 5): 0it [00:00, ?it/s]"
      ],
      "application/vnd.jupyter.widget-view+json": {
       "version_major": 2,
       "version_minor": 0,
       "model_id": "ac64386393c64165bf994b44c9c038b6"
      }
     },
     "metadata": {},
     "output_type": "display_data"
    }
   ],
   "execution_count": 42
  },
  {
   "metadata": {
    "ExecuteTime": {
     "end_time": "2024-10-24T14:54:37.888636Z",
     "start_time": "2024-10-24T14:54:37.646615Z"
    }
   },
   "cell_type": "code",
   "source": [
    "plt.subplot(1,2,1)\n",
    "plt.title(\"Loss per iteració CNN\")\n",
    "plt.plot(running_loss, label=\"train\")\n",
    "plt.plot(running_test_loss, label=\"test\")\n",
    "plt.legend()\n",
    "\n",
    "plt.subplot(1,2,2)\n",
    "plt.title(\"Accuracy per iteració CNN\")\n",
    "plt.plot(running_acc, label=\"train\")\n",
    "plt.plot(running_test_acc_cnn, label=\"test\")\n",
    "plt.legend()\n",
    "plt.show()"
   ],
   "outputs": [
    {
     "data": {
      "text/plain": [
       "<Figure size 640x480 with 2 Axes>"
      ],
      "image/png": "iVBORw0KGgoAAAANSUhEUgAAAiwAAAGyCAYAAADH859HAAAAOXRFWHRTb2Z0d2FyZQBNYXRwbG90bGliIHZlcnNpb24zLjkuMiwgaHR0cHM6Ly9tYXRwbG90bGliLm9yZy8hTgPZAAAACXBIWXMAAA9hAAAPYQGoP6dpAACP9klEQVR4nOzdd3zN9/fA8dfNTW72spIgw44QJHZiz1ql/aodpRRdqC750RbVKlVNF0qpGiWtUR1mh1WbGLVrJSJDQgaR/fn9cd3LlYTcSHIzzvPxuI/GJ+/7uedze+/Nue9x3ipFURSEEEIIIUowM1MHIIQQQgjxOJKwCCGEEKLEk4RFCCGEECWeJCxCCCGEKPEkYRFCCCFEiScJixBCCCFKPElYhBBCCFHiScIihBBCiBJPEhYhhBBClHiSsAhRQP/73//w9fUlMTHR1KEIIcqpX375BY1Gw9atW00dSpGThMUIy5YtQ6VScfjwYVOHUuJNmzYNlUplcGz+/PksW7bMNAEZacSIEXh5eeX5+5CQEA4ePMjmzZtxdHTM93l3797NgAEDqFatGhqNBkdHRwICAliwYAF37tzRt/Py8kKlUjFu3Lgc59ixYwcqlYq1a9fqj+lem1ZWVly9ejXHfTp06EDDhg3zHae474svvkClUsnzVwpduXIFlUpl8Lmzd+9epk2bRkJCgsniyi/de33Hjh25/v7y5cuMGDGCRYsW0b1793yfNyYmhsmTJ+Pr64udnR1WVlbUqVOHCRMmcOHCBX073ed4lSpVSE5OznEeLy8vevfubXBMpVKhUqn4+OOPc7R/0r+hkrCIIjF69Gj27dtncKw0JSzvvvsuGzZsyPV3+/fv58MPP2Tz5s1Ur1493+d8//33adeuHZGRkXzwwQds376dNWvW0LlzZ6ZNm8bUqVNz3GfJkiWcO3cu34+RlpaW63lEwS1duhSAU6dOceDAARNHI4zh5ubGvn376NWrl/7Y3r17mT59eqlIWPz9/dm3bx/+/v45fpeens6AAQN4/fXXGTFiRL7PefDgQXx9fVmyZAn9+/dn/fr1bNmyhTfffJOjR4/SokWLHPe5ceMGc+bMMSr2jz/+mJs3bxp1n8dSRL599913CqAcOnTI1KGUCHfu3DGqfYMGDZT27dsXagzZ2dlKSkpKoZ6zKPz4448KoIwaNUrJzs7O8fukpCRl69at+n97enoqrVu3VhwdHZVnn33WoO3ff/+tAMpPP/2kP6Z7bT711FOKmZmZcuzYMYP7tG/fXmnQoEEhX1XZd+jQIQVQevXqpQDKiy++aOqQ8mTs+7GsSElJyfU9lZdPPvlEAZTLly8Xahyl4flPTExUXF1dFXd3dyUiIiLXNg9+rrz//vv6zxVbW1slKirKoK2np6fSq1cvg2OA0qVLF8Xc3FyZNGmSwe+e9G+o9LAUgT179tC5c2fs7e2xsbEhICCA33//3aBNSkoKb775JjVq1MDKyooKFSrQrFkzVq9erW9z6dIlBg0aRNWqVbG0tMTFxYXOnTtz7NixRz7+iBEjsLOz49SpU3Tu3BlbW1sqV67Mq6++SkpKikFbRVGYP38+TZo0wdraGmdnZ/r378+lS5cM2umGFHbt2kVAQAA2Nja88MILecbw8JCQl5cXp06dYufOnfouwweHXJKSkvTPh0ajoVq1akycONFgmAS03Y2vvvoqCxcupH79+lhaWvL9998DMH36dFq2bEmFChVwcHDA39+fJUuWoOSyIfkPP/xA69atsbOzw87OjiZNmrBkyRKD5/DhIaHU1FSCg4MNYnzllVfy9U1txowZODs764cXHmZvb0+3bt0MjlWoUIHJkyezfv169u/f/9jHAHj77bepWLEi77zzTr7ai0fTvSY+/vhjAgICWLNmTY73EEBkZCRjxozB3d0djUZD1apV6d+/PzExMfo2CQkJvPHGG9SsWRNLS0uqVKlCz549OXv2LJB3939uwxq69/jJkyfp1q0b9vb2dO7cGYDt27fTt29fqlevjpWVFbVr12bs2LHExcXliPvs2bMMHjwYFxcXLC0t8fDwYPjw4aSlpXHlyhXMzc2ZNWtWjvvt2rULlUrFTz/9lOdzp7uelStXMmnSJFxdXbG2tqZ9+/aEhYXlaH/48GGefvppKlSogJWVFX5+fvz4448GbXRDCtu2beOFF16gcuXK2NjYkJaWlmsMDz9306ZN46233gKgRo0a+s+iB5/z0NBQWrduja2tLXZ2dnTv3j1HvMXx/D/4HD78mvjll19o3bo1NjY22Nvb07Vr1xw92rlZvHgx0dHRzJkzJ8/e4f79++c4NnPmTDIzM5k2bdpjHwOgXr16jBo1iq+//jrXIeqCkoSlkO3cuZNOnTqRmJjIkiVLWL16Nfb29vTp04fQ0FB9u0mTJrFgwQLGjx/Pli1bWLFiBc899xzx8fH6Nj179uTIkSPMmTOH7du3s2DBAvz8/PL1BzIjI4OePXvSuXNnfv75Z1599VW++eYbBg4caNBu7NixTJw4kS5duvDzzz8zf/58Tp06RUBAgMGHLUBUVBTDhg1jyJAhbNq0iZdffjnfz8uGDRuoWbMmfn5+7Nu3j3379umHXFJSUmjfvj3ff/8948ePZ/PmzbzzzjssW7aMp59+OkfC8fPPP7NgwQLee+89tm7dStu2bQHth9PYsWP58ccfWb9+Pc8++yyvvfYaH3zwgcH933vvPYYOHUrVqlVZtmwZGzZs4Pnnn3/kG0tRFPr168fcuXMJCgri999/Z9KkSXz//fd06tQpzw9M3fP277//0q1bN2xsbPL9nAFMmDCBatWq8fbbb+ervb29PVOnTmXr1q389ddfRj2WMHT37l1Wr15N8+bNadiwIS+88ALJyck5/khHRkbSvHlzNmzYwKRJk9i8eTMhISE4Ojpy69YtAJKTk2nTpg3ffPMNI0eO5Ndff2XhwoXUrVuXqKioAsWXnp7O008/TadOndi4cSPTp08H4OLFi7Ru3ZoFCxawbds23nvvPQ4cOECbNm3IyMjQ3//48eM0b96c/fv3M2PGDDZv3sysWbNIS0sjPT0dLy8vnn76aRYuXEhWVpbBY3/11VdUrVqVZ5555rFx/t///R+XLl3i22+/5dtvv+X69et06NDB4EvR33//TWBgIAkJCSxcuJCNGzfSpEkTBg4cmOsw8gsvvICFhQUrVqxg7dq1WFhY5Os5Gz16NK+99hoA69ev138W6YZcPvroIwYPHoyPjw8//vgjK1asIDk5mbZt23L69Oliff7z8sMPP9C3b18cHBxYvXo1S5Ys4datW3To0IE9e/Y88vq3bduGWq2mT58++Xq+dDw9PXn55ZdZsmQJ58+fz9d9pk2bhlqt5t133zXqsR6pQP0y5VR+urNatWqlVKlSRUlOTtYfy8zMVBo2bKhUr15d33XZsGFDpV+/fnmeJy4uTgGUkJAQo+N8/vnnFUD5/PPPDY5/+OGHCqDs2bNHURRF2bdvnwIon376qUG7iIgIxdraWnn77bf1x9q3b68Ayp9//pmvGHRdiQ/Ka0ho1qxZipmZWY7nde3atQqgbNq0SX8MUBwdHZWbN28+8vGzsrKUjIwMZcaMGUrFihX1z/ulS5cUtVqtDB069JH3f/755xVPT0/9v7ds2aIAypw5cwzahYaGKoCyaNGiPM+1f/9+BVAmT578yMd80INdrYsXL1YA5ddff1UU5dFDQocOHVLS0tKUmjVrKs2aNdNftwwJGW/58uUKoCxcuFBRFEVJTk5W7OzslLZt2xq0e+GFFxQLCwvl9OnTeZ5rxowZCqBs3749zza6/69///23wfHLly8rgPLdd9/pj+ne40uXLn3kNWRnZysZGRnK1atXFUDZuHGj/nedOnVSnJyclNjY2MfGtGHDBv2xyMhIxdzcXJk+ffojH1t3X39/f4MhmytXrigWFhbK6NGj9ce8vb0VPz8/JSMjw+AcvXv3Vtzc3JSsrCxFUe6/zocPH/7Ix9bJ7bnLa0goPDxcMTc3V1577TWD48nJyYqrq6syYMAA/bHifv51r4msrCylatWqiq+vr/450cVYpUoVJSAg4JHxeHt7K66uro9s8yDd5/iNGzeUuLg4xdHRUfnf//6n/31eQ0KvvPKKoiiKMmXKFMXMzEw5fvy4oigyJFSi3LlzhwMHDtC/f3/s7Oz0x9VqNUFBQVy7dk0/gbJFixZs3ryZyZMns2PHDu7evWtwrgoVKlCrVi0++eQT5s2bR1hYGNnZ2UbFM3ToUIN/DxkyBNB+mwH47bffUKlUDBs2jMzMTP3N1dWVxo0b5+iGdHZ2plOnTkbFkB+//fYbDRs2pEmTJgZxdO/ePdfu0E6dOuHs7JzjPH/99RddunTB0dERtVqNhYUF7733HvHx8cTGxgLa7tqsrCxeeeUVo2LU9VY8PLntueeew9bWlj///NOo8xlj5MiR+Pj4MHny5Hy9BjQaDTNnzuTw4cM5utRF/i1ZsgRra2sGDRoEgJ2dHc899xy7d+82WEmxefNmOnbsSP369fM81+bNm6lbty5dunQp1Bj/97//5TgWGxvLuHHjcHd3x9zcHAsLCzw9PQE4c+YMoO3V3LlzJwMGDKBy5cp5nr9Dhw40btyYr7/+Wn9s4cKFqFQqxowZk68YhwwZYjAM6unpSUBAgP5z6L///uPs2bP6z6sHPwN69uxJVFRUjonnuV33k9q6dSuZmZkMHz7cIAYrKyvat2+f60qdon7+H3bu3DmuX79OUFAQZmb3/3zb2dnxv//9j/379+c6ZFkYdEPN69aty/fk87fffpsKFSoU2hC1JCyF6NatWyiKgpubW47fVa1aFUA/5PPFF1/wzjvv8PPPP9OxY0cqVKhAv3799B+EKpWKP//8k+7duzNnzhz8/f2pXLky48ePz3V52cPMzc2pWLGiwTFXV1eDGGJiYlAUBRcXFywsLAxu+/fvzzHmmtt1FYaYmBhOnDiRIwZ7e3sURclXHAcPHtTPAVm8eDH//PMPhw4dYsqUKQD6hPDGjRsARq3uAe1zZm5unuPDRaVS4erqajCU9zAPDw9AuwSxINRqNR999BGnTp3Sz9d5nEGDBuHv78+UKVMMuqFF/vz333/s2rWLXr16oSgKCQkJJCQk6Mf3dSuHQPuaetzrKT9tjGVjY4ODg4PBsezsbLp168b69et5++23+fPPPzl48KB+DpTufXDr1i2ysrLyFdP48eP5888/OXfuHBkZGSxevJj+/fvrP08eJ7d2D75ndEPPb775Zo7PAN2wc3F8FuniaN68eY44QkNDc8RQXM//g3TPWV5/Y7Kzs/XDkLnx8PDgxo0bOeYG5tfEiROpWrVqvoeoHRwcmDp1Klu2bNEnqE/C/InPIPScnZ0xMzPLdUz6+vXrAFSqVAkAW1tbpk+fzvTp04mJidH3tvTp00c/Cc/T01M/6e/8+fP8+OOPTJs2jfT0dBYuXPjIWDIzM4mPjzdIWqKjowH0xypVqoRKpWL37t1YWlrmOMfDx3KbLFoYKlWqhLW1tcEfgYd//7g41qxZg4WFBb/99htWVlb64z///LNBO13Cce3aNdzd3fMdY8WKFcnMzOTGjRsGSYuiKERHR9O8efM87+vm5oavry/btm0jJSXF6HksAH379iUwMJD333+fRYsWPba9SqVi9uzZdO3aNV/thaGlS5eiKApr1641qHej8/333zNz5kzUajWVK1fm2rVrjzxfftroXrcPz4fKbbIm5P4++Pfffzl+/DjLli3j+eef1x//77//DNpVqFABtVr92JhA20Pyzjvv8PXXX9OqVSuio6ON6qHUfe48fOzBzyGA4OBgnn322VzPUa9ePYN/F8VnkS6OtWvX6ntEHqW4nv8H6Z6zvP7GmJmZ5dr7rNO9e3e2bdvGr7/+qu85NIa1tTXTpk1jzJgxORaS5OWll17i888/55133uGll14y+jEfJD0shcjW1paWLVuyfv16gyGe7OxsVq5cSfXq1albt26O+7m4uDBixAgGDx7MuXPncu3Sq1u3LlOnTsXX15ejR4/mK55Vq1YZ/PuHH34AtN28AL1790ZRFCIjI2nWrFmOm6+vb34vPV8sLS1zDH3p4rh48SIVK1bMNY5HFXDTUalUmJubo1ar9cfu3r3LihUrDNp169YNtVrNggULjIpdtwJg5cqVBsfXrVvHnTt39L/Py7vvvsutW7cYP358rquWbt++zbZt2x55jtmzZxMREcEXX3yRr5i7dOlC165dmTFjBrdv387XfQRkZWXx/fffU6tWLf7+++8ctzfeeIOoqCg2b94MQI8ePfj7778fWS+nR48enD9//pEToXWv8xMnThgc/+WXX/Idu+6P6MNfNr755huDf+tW6/z00095JkQ6VlZWjBkzhu+//5558+bRpEkTAgMD8x3T6tWrDV7zV69eZe/evfrPoXr16lGnTh2OHz+e6/u/WbNm2Nvb5/vxHkf33Dz8WdS9e3fMzc25ePFinnE8TlE8/w+qV68e1apV44cffjB4Tu/cucO6dev0K4fyMmrUKFxdXXn77beJjIzMtc369esfGcMLL7xA/fr1jR6iPnTo0CNXleWH9LAUwF9//cWVK1dyHO/ZsyezZs2ia9eudOzYkTfffBONRsP8+fP5999/Wb16tf4F3bJlS3r37k2jRo1wdnbmzJkzrFixQv+CO3HiBK+++irPPfccderUQaPR8Ndff3HixAkmT5782Bg1Gg2ffvopt2/fpnnz5uzdu5eZM2fSo0cP2rRpA0BgYCBjxoxh5MiRHD58mHbt2mFra0tUVBR79uzB19f3iTPiB/n6+rJmzRpCQ0OpWbMmVlZW+Pr6MnHiRNatW0e7du14/fXXadSoEdnZ2YSHh7Nt2zbeeOMNWrZs+chz9+rVi3nz5jFkyBDGjBlDfHw8c+fOzfHB4eXlxf/93//xwQcfcPfuXQYPHoyjoyOnT58mLi5OP9P/YV27dqV79+688847JCUlERgYyIkTJ3j//ffx8/MjKCjokfE999xzvPvuu3zwwQecPXuWUaNGUatWLVJSUjhw4IB+BdfDS5sfFBgYSN++fdm4ceMjH+tBs2fPpmnTpsTGxtKgQYN8368827x5M9evX2f27Nn6P6oPatiwIV999RVLliyhd+/e+hUe7dq14//+7//w9fUlISGBLVu2MGnSJLy9vZk4cSKhoaH07duXyZMn06JFC+7evcvOnTvp3bs3HTt2xNXVlS5dujBr1iycnZ3x9PTkzz//fOwfkAd5e3tTq1YtJk+ejKIoVKhQgV9//ZXt27fnaDtv3jzatGlDy5YtmTx5MrVr1yYmJoZffvmFb775xiBJePnll5kzZw5Hjhzh22+/Ner5jI2N5ZlnnuHFF18kMTGR999/HysrK4KDg/VtvvnmG3r06EH37t0ZMWIE1apV4+bNm5w5c4ajR48+8R+6B+m+iH3++ec8//zzWFhYUK9ePby8vJgxYwZTpkzh0qVLPPXUUzg7OxMTE8PBgwf1veKPUlTPv46ZmRlz5sxh6NCh9O7dm7Fjx5KWlsYnn3xCQkJCrtVlH+To6MjGjRvp3bs3fn5+vPrqq7Ru3RqNRsOFCxdYuXIlx48fz7OnC+4PUetWiDVq1OiRjwkwePBg5s6dq0/yC6xAU3XLKd0M57xuulnnu3fvVjp16qTY2toq1tbWSqtWrfQrPHQmT56sNGvWTHF2dlYsLS2VmjVrKq+//roSFxenKIqixMTEKCNGjFC8vb0VW1tbxc7OTmnUqJHy2WefKZmZmY+M8/nnn1dsbW2VEydOKB06dFCsra2VChUqKC+99JJy+/btHO2XLl2qtGzZUh9vrVq1lOHDhyuHDx/WtzF2lUluq4SuXLmidOvWTbG3t1cAg1U4t2/fVqZOnarUq1dP0Wg0iqOjo+Lr66u8/vrrSnR0tL4dD8xAz+066tWrp38+Z82apSxZsiTXFQHLly9XmjdvrlhZWSl2dnaKn59fjlUYD8anKIpy9+5d5Z133lE8PT0VCwsLxc3NTXnppZeUW7du5ft52blzp9K/f3/Fzc1NsbCwUBwcHJTWrVsrn3zyiZKUlKRvl9vse0VRlNOnTytqtfqRq4QeNmTIEAWQVUL51K9fP0Wj0Txy9cagQYMUc3Nz/WszIiJCeeGFFxRXV1fFwsJCqVq1qjJgwAAlJiZGf59bt24pEyZMUDw8PBQLCwulSpUqSq9evZSzZ8/q20RFRSn9+/dXKlSooDg6OirDhg1TDh8+nOsqIVtb21xjO336tNK1a1fF3t5ecXZ2Vp577jklPDxcAZT3338/R9vnnntOqVixoqLRaBQPDw9lxIgRSmpqao7zdujQQalQoUK+CzXqVrisWLFCGT9+vFK5cmXF0tJSadu2rcFni87x48eVAQMGKFWqVFEsLCwUV1dXpVOnTvpVWopi/CqT3FYJKYqiBAcHK1WrVlXMzMxyrMz6+eeflY4dOyoODg6KpaWl4unpqfTv31/5448/9G2K6/nPa+XYzz//rLRs2VKxsrJSbG1tlc6dOyv//PNPvp4TRVGU6Oho5Z133lEaNGig2NjYKJaWlkrt2rWVsWPHKidPntS3e3CV0MMCAgL0RRUflNdn9LZt2/R/Kwu6Skh17wFEGTJixAjWrl0rwwBCiEIRGxuLp6cnr732Wr5LtO/YsYOOHTvy008/5VqMTAhjyZCQEEKIXF27do1Lly7xySefYGZmxoQJE0wdkijHZNKtEEKIXH377bd06NCBU6dOsWrVKqpVq2bqkEQ5JkNCQgghhCjxpIdFCFEs5s+fr9/ss2nTpuzevfuR7b/++mvq16+PtbU19erVY/ny5TnarFu3Dh8fHywtLfHx8dHvTyWEKHskYRFCFLnQ0FAmTpzIlClTCAsLo23btvTo0YPw8PBc2y9YsIDg4GCmTZvGqVOnmD59Oq+88gq//vqrvs2+ffsYOHAgQUFBHD9+nKCgIAYMGJDvsuFCiNJFhoSEEEWuZcuW+Pv7GxTsq1+/Pv369WPWrFk52gcEBBAYGMgnn3yiPzZx4kQOHz6s35F24MCBJCUlGdR20NXOWL16dRFejRDCFMrMKqHs7GyuX7+Ovb19kZWQF0LkTVEUkpOTqVq1qsHGbOnp6Rw5ciRHwcNu3bqxd+/eXM+VlpZmsMUCaKuDHjx4kIyMDCwsLNi3bx+vv/66QZvu3bsTEhKSZ4xpaWkGpe+zs7O5efMmFStWlM8NIUwkr8+Oh5WZhOX69etG7Q0jhCgaERERBpu6xcXFkZWVhYuLi0E7FxeXXPeZAW3i8e2339KvXz/8/f05cuQIS5cuJSMjg7i4ONzc3IiOjjbqnACzZs16bLVSIYRpPPzZ8bAyk7DoyhhHRETk2EFTCFH0kpKScHd3z3Pfl4d7MBRFybNX49133yU6OppWrVrpdxQfMWIEc+bMMdgvyphzgnaDvUmTJun/nZiYiIeHh3xuCGFCj/vs0CkzCYvuQ8rBwUE+eIQwoYcThkqVKqFWq3P0fMTGxuboIdHR7d79zTffEBMTg5ubG4sWLcLe3l6/q66rq6tR5wTtpnS57UwunxtCmN7jhmVllZAQokhpNBqaNm2aYwO47du3ExAQ8Mj7WlhYUL16ddRqNWvWrKF37976Me7WrVvnOOe2bdsee04hROlUZnpYhBAl16RJkwgKCqJZs2a0bt2aRYsWER4ezrhx4wDtUE1kZKS+1sr58+c5ePAgLVu25NatW8ybN49///2X77//Xn/OCRMm0K5dO2bPnq3fxfqPP/7QryISQpQtkrAIIYrcwIEDiY+PZ8aMGURFRdGwYUM2bdqEp6cnAFFRUQY1WbKysvj00085d+4cFhYWdOzYkb179+Ll5aVvExAQwJo1a5g6dSrvvvsutWrVIjQ0lJYtWxb35QkhikGZqcOSlJSEo6MjiYmJMhYt8qQoCpmZmWRlZZk6lFJHrVZjbm6e5zhzaXwP5idmec08mce9boTI72eH9LCIciM9PZ2oqChSUlJMHUqpZWNjg5ubGxqNxtShFAt5zRSO8va6EUVDEhZRLmRnZ3P58mXUajVVq1ZFo9HINz4jKIpCeno6N27c4PLly9SpU+eRBZ7KAnnNPLny+LoRRUcSFlEupKenk52djbu7OzY2NqYOp1SytrbGwsKCq1evkp6enqMSbVkjr5nCUd5eN6LoSKoryhX5dvdkyuPzVx6vubDJcygKg7yKhBBCCFHiScIihBBCiBJPEhYhyhEvL69H7mYsxMPkNSNKCpl0K0QJ16FDB5o0aVIofzQOHTqEra3tkwclSjR5zYiyqFz1sMTdTuOLPy8w9eeTpg5FiEKjK2yWH5UrV5YVL0JeM6JIKYrC3otxvPLDUU5eSyy085arhCU7W2He9vOsOhBOcmqGqcMRJqQoCinpmSa5GVNcesSIEezcuZPPP/8clUqFSqVi2bJlqFQqtm7dSrNmzbC0tGT37t1cvHiRvn374uLigp2dHc2bN+ePP/4wON/D3fsqlYpvv/2WZ555BhsbG+rUqcMvv/xSWE9zmVMaXjfymhGmkpCSzre7L9F53k6GLD7A7yeiWHXgaqGdv1wNCVVxsKKakzWRCXc5HpFImzqVTB2SMJG7GVn4vLfVJI99ekZ3bDT5e+t9/vnnnD9/noYNGzJjxgwATp06BcDbb7/N3LlzqVmzJk5OTly7do2ePXsyc+ZMrKys+P777+nTpw/nzp3Dw8Mjz8eYPn06c+bM4ZNPPuHLL79k6NChXL16lQoVKjz5xZYxpeF1I68ZUZwURSEsIoFV+8P57cR10jKzAbDVqOnnV42hLT0L7bHKVcIC4O/pTGTCXcLCb0nCIko8R0dHNBoNNjY2uLq6AnD27FkAZsyYQdeuXfVtK1asSOPGjfX/njlzJhs2bOCXX37h1VdfzfMxRowYweDBgwH46KOP+PLLLzl48CBPPfVUUVySKGLymhHF4XZaJj+HRbLqQDhnopL0x+u7OTCslQd9m1TDzrJwU4wCnW3+/Pl88sknREVF0aBBA0JCQmjbtm2e7dPS0pgxYwYrV64kOjqa6tWrM2XKFF544QV9m3Xr1vHuu+9y8eJFatWqxYcffsgzzzxTkPAeyd/DiV+PX+do+K1CP7coPawt1Jye0d1kj10YmjVrZvDvO3fuMH36dH777TeuX79OZmYmd+/eNdgFOTeNGjXS/2xra4u9vT2xsbGFEmNZU9pfN/KaEU/q9PUkVh24ys9hkdxJ124IamluRu9GVRnaygM/d6ci28LC6IQlNDSUiRMnMn/+fAIDA/nmm2/o0aMHp0+fzrMLccCAAcTExLBkyRJq165NbGyswYSvffv2MXDgQD744AOeeeYZNmzYwIABA9izZ0+hbxXv5+EMQFhEAoqiyN4g5ZRKpcr3sExJ9fDKjbfeeoutW7cyd+5cateujbW1Nf379yc9Pf2R57GwsDD4t0qlIjs7u9DjLQtK++tGXjOiIFIzsvjt3nyUsPAE/fGalW0Z2tKT//lXw8mm6De2NPqdN2/ePEaNGsXo0aMBCAkJYevWrSxYsIBZs2blaL9lyxZ27tzJpUuX9OObXl5eBm1CQkLo2rUrwcHBAAQHB7Nz505CQkJYvXq1sSE+ko+bA5bmZiSkZHAp7g61KtsV6vmFKGwajYasrKzHttu9ezcjRozQ90zevn2bK1euFHF0oiSS14woDBdv3GbV/nDWHb1G4l3tQhULtYruDVwZ2tKTVjUrFOuXfqNWCaWnp3PkyBG6detmcLxbt27s3bs31/v88ssvNGvWjDlz5lCtWjXq1q3Lm2++yd27d/Vt9u3bl+Oc3bt3z/OcoB1mSkpKMrjlh8bcDN9qjgAcvSrDQqLk8/Ly4sCBA1y5coW4uLg8v8nWrl2b9evXc+zYMY4fP86QIUPkW285Ja8ZUVDpmdn8duI6gxftp/OnO1n6z2US72ZQzcmat7rXY+/kznw1xJ/WtSoW+wiFUQlLXFwcWVlZuLi4GBx3cXEhOjo61/tcunSJPXv28O+//7JhwwZCQkJYu3Ytr7zyir5NdHS0UecEmDVrFo6Ojvqbu7t7vq/D3/P+sJAQJd2bb76JWq3Gx8eHypUr5zm/4LPPPsPZ2ZmAgAD69OlD9+7d8ff3L+ZoRUkgrxlhrIibKczZcpaAj//k1R/C2HcpHjMVdKnvwncjm7Pr7Y680rE2le0tTRZjgQZjH86qHjUXJDs7G5VKxapVq3B01PZszJs3j/79+/P1119jbW1t9DlBO2w0adIk/b+TkpLynbT4ezgB0sMiSoe6deuyb98+g2MjRozI0c7Ly4u//vrL4NiDXwyAHN39udX2SEhIKFCcouSQ14zIj6xshb/PxrLqwFV2nL+B7n9tFXtLBjV3Z2ALD6o5WZs2yAcYlbBUqlQJtVqdo+cjNjY2Rw+JjpubG9WqVdMnKwD169dHURSuXbtGnTp1cHV1NeqcAJaWllhaFizT0028PR+TzO20zEJfeiWEEEKUVDFJqYQeimDNwXCuJ6bqj7etU4mhLT3oXN8FC3XJqytrVEQajYamTZuyfft2g+Pbt28nICAg1/sEBgZy/fp1bt++rT92/vx5zMzMqF69OgCtW7fOcc5t27blec4n5XKvgFy2AsdlWEgIIUQZl52tsPvCDcatOELAx38xb/t5riem4mxjwdh2NdnxZgdWjGrJUw3dSmSyAgUYEpo0aRJBQUE0a9aM1q1bs2jRIsLDwxk3bhygHaqJjIxk+fLlAAwZMoQPPviAkSNHMn36dOLi4njrrbd44YUX9MNBEyZMoF27dsyePZu+ffuyceNG/vjjD/bs2VOIl2rIz8OJyIS7HL16i8DaUkBOCCFE2XPzTjprj0Tww4FwrsSn6I8393JmaEtPnmroilUh1YYqakYnLAMHDiQ+Pp4ZM2YQFRVFw4YN2bRpE56e2vK7UVFRBhO87Ozs2L59O6+99hrNmjWjYsWKDBgwgJkzZ+rbBAQEsGbNGqZOncq7775LrVq1CA0NLfQaLA/y93DmtxNRMvFWCCFEmaIoCoev3mLV/qtsOhlNepZ25Ze9pTnP+ldjSEtP6rnamzhK4xVo8sbLL7/Myy+/nOvvli1bluOYt7d3jiGfh/Xv35/+/fsXJJwC0a8UCr8lBeSEEEKUekmpGWw4GsmqA1c5H3N/GoZvNUeGtfKgT+OqpbrwYemN/An5uDmgMTfjVkoGl+PuUFMKyAkhhCiFTl5LZNWBq2w8dp27GdqCgVYWZvRtXI2hrTxoVN3JtAEWknKbsOgKyB25eouj4QmSsAghhCg1UtIz+fX4dVYdCOfEtUT98TpV7BjWypN+ftVwtLZ4xBlKn3KbsIC2Hos2YblF/6bVTR2OEEII8UjnY5L54YC2XH5yqnZPPo3ajJ6+rgxt5UkzT+cyO8WhnCcszsBlKSAnhBCixErLzGLLv9Gs2h/OwSs39cc9K9owpIUH/ZtWp6Kd6SrQFpfynbB4SgE5IYQQJdOVuDusPhjOT0eucfOOdgdttZmKrvVdGNrKg8BalTAzK5u9Kbkp13+hdQXkIhPuciIigQCpxyJKoA4dOtCkSRNCQkIK5XwjRowgISGBn3/+uVDOJ0oeec2UXplZ2fxxRlsuf/eFOP1xN0crBjX3YGBzd1wdrUwYoemU64QFoImugFz4LUlYhBBCmERaZhbf773Ckj2XiUlKA0ClgvZ1KzO0pScd61XGvIRWoC0u5fvq0c1jgaPhCaYNRBQvRYH0O6a55bJ5XF5GjBjBzp07+fzzz1GpVKhUKq5cucLp06fp2bMndnZ2uLi4EBQURFzc/W9ja9euxdfXF2traypWrEiXLl24c+cO06ZN4/vvv2fjxo368+3YsaMInuAyqhS8buQ1U7ooisIfp2Po/tkuPtp0lpikNCrZaXi5Qy12vdWRZSNb0NXHpdwnKyA9LPqdm6WAXDmTkQIfVTXNY//fddDY5qvp559/zvnz52nYsCEzZswAICsri/bt2/Piiy8yb9487t69yzvvvMOAAQP466+/iIqKYvDgwcyZM4dnnnmG5ORkdu/ejaIovPnmm5w5c4akpCS+++47ACpUqFBkl1rmlILXjbxmSo8LMcnM+O20fuinsr0lb3WrRz+/amjMJUF5WLlPWBpUddQXkLsSn0KNSvn7QyJEcXB0dESj0WBjY4OrqysA7733Hv7+/nz00Uf6dkuXLsXd3Z3z589z+/ZtMjMzefbZZ/VbZvj6+urbWltbk5aWpj+fKFvkNVPyJaSkE/LHBVbsv0pWtoJGbcaotjV4pWNtWfzxCOX+mTEoIHf1liQs5YWFjfYbq6ke+wkcOXKEv//+Gzu7nMUOL168SLdu3ejcuTO+vr50796dbt260b9/f5ydnZ/ocQWl9nUjr5mSITMrm9UHw/l0+3kSUjIA6ObjwpRe9fGsKH97HqfcJywAfu73C8j9TwrIlQ8qVb6HZUqa7Oxs+vTpw+zZs3P8zs3NDbVazfbt29m7dy/btm3jyy+/ZMqUKRw4cIAaNWqYIOIypJS+buQ1Y3p7/4tj+q+nOReTDEBdFzve692ANnVksUd+ScLCvXosey7LxFtRImk0GrKysvT/9vf3Z926dXh5eWFunvtbWKVSERgYSGBgIO+99x6enp5s2LCBSZMm5TifKHvkNVNyhMen8OGm02w9FQOAk40Fb3Sty+AWHjKR1kjybHF/pdC56CRup2WaOBohDHl5eXHgwAGuXLlCXFwcr7zyCjdv3mTw4MEcPHiQS5cusW3bNl544QWysrI4cOAAH330EYcPHyY8PJz169dz48YN6tevrz/fiRMnOHfuHHFxcWRkZJj4CkVhk9eM6d1Oy2T2lrN0mbeTradiUJupGBHgxY43OxDU2kuSlQKQZwxwdbSiqqMV2QqcuJZg6nCEMPDmm2+iVqvx8fGhcuXKpKen888//5CVlUX37t1p2LAhEyZMwNHRETMzMxwcHNi1axc9e/akbt26TJ06lU8//ZQePXoA8OKLL1KvXj2aNWtG5cqV+eeff0x8haKwyWvGdLKzFdYeuUbHuTtYsOMi6VnZtKldic0T2jLt6QY42WhMHWKppVIUI4pClGBJSUk4OjqSmJiIg4OD0fd/5Yej/H4iire61+OVjrWLIEJhSqmpqVy+fJkaNWpgZVU+q0QWhkc9j0/6HjSFR8Usr5nCU16ey6Pht5j+yymO39s92bOiDVN7+dClfhUpmfEI+f3skDks9/i5O/H7iSjZCFEIIYRRohNTmb3lLBvCIgGwszTntU61GRHohaW52sTRlR2SsNyj2wgxLCJBCsgJIYR4rNSMLL7dfYmv/77I3YwsVCp4rml13uxejyr2ZbcnyVQkYbmnQVUHNGozbt5JlwJyQggh8qQoCpv/jeajTWe4dusuAE09nXm/jw+NqjuZNrgyTBKWeyzN1TSs5sDR8ATCwqWAnBBCiJxOX09i+q+nOHD5JqDdRXlyD2+eblxVeuaLmCQsD/D3cOZoeAJHw2/xrL8UkCuLysgcc5Mpj89febzmwlYWnsP422l8uv08aw6Gk62ApbkZY9vXYlz7mtho5E9pcZBn+QF+Hs7AZY5eTTB1KKKQWVhYAJCSkoK1tbWJoym9UlJSgPvPZ1kmr5nCU5pfNxlZ2Szfd5WQP86TnKqt09WrkRvBPbyp7vxk22wI40jC8gB/TycAzkYncSctE1vZhKrMUKvVODk5ERsbC4CNjY103xpBURRSUlKIjY3FyckJtbrsr3yQ18yTK+2vmx3nYvngt9NcvHEH0M51fK+3Dy1rVjRxZOWT/EV+gJujNW6OVkQlpnL8WgIBtWSPh7JEt9Os7g+QMJ6Tk1OBd+ydP38+n3zyCVFRUTRo0ICQkBDatm2bZ/tVq1YxZ84cLly4gKOjI0899RRz586lYsX7fyxCQkJYsGAB4eHhVKpUif79+zNr1qxCq/Uhr5nC8SSvG1O4dOM2M38/w19ntf/fK9pqeKt7PZ5r5o7aTJJWU5GE5SH+Hs78fjKKsHBJWMoalUqFm5sbVapUkdLiBWBhYVHgb8ihoaFMnDiR+fPnExgYyDfffEOPHj04ffo0Hh4eOdrv2bOH4cOH89lnn9GnTx8iIyMZN24co0ePZsOGDYA2oZk8eTJLly4lICCA8+fPM2LECAA+++yzAl/ng+Q18+Se5HVT3JJSM/jyzwt8988VMrMVzM1UjAz04rXOdXCwKn3DWWWNJCwP8fNwupewSAG5skqtVpeaD9CyYt68eYwaNYrRo0cD2p6RrVu3smDBAmbNmpWj/f79+/Hy8mL8+PEA1KhRg7FjxzJnzhx9m3379hEYGMiQIUMA7X43ur1yCpu8Zsq2rGyFHw9HMHfrOeLvpAPQybsKU3rVp1ZlOxNHJ3RkL6GH+N3bCPFoeEKZmNkuhKmlp6dz5MgRunXrZnC8W7du7N27N9f7BAQEcO3aNTZt2oSiKMTExLB27Vp69eqlb9OmTRuOHDmiT1AuXbrEpk2bDNo8LC0tjaSkJIObKN8OXIqnz5d7CF5/kvg76dSsbMt3I5uzdERzSVZKGOlheUjDavcLyF2NT8FL6rEI8UTi4uLIysrCxcXF4LiLiwvR0dG53icgIIBVq1YxcOBAUlNTyczM5Omnn+bLL7/Utxk0aBA3btygTZs2KIpCZmYmL730EpMnT84zllmzZjF9+vTCuTBRql27lcKszWf5/UQUAPZW5kzsUpfhrT2xkJ2USyT5v/IQS3M1DappN186KsNCQhSah1fYPGoLjNOnTzN+/Hjee+89jhw5wpYtW7h8+TLjxo3Tt9mxYwcffvgh8+fP5+jRo6xfv57ffvuNDz74IM8YgoODSUxM1N8iIiIK5+JEqZGSnsm87efp/OlOfj8RhZkKhrT0YMebHRjVpoYkKyWY9LDkwt/DmbDwBMLCE6SAnBBPqFKlSqjV6hy9KbGxsTl6XXRmzZpFYGAgb731FgCNGjXC1taWtm3bMnPmTNzc3Hj33XcJCgrSz4vx9fXlzp07jBkzhilTpmBmlvMPj6WlJZaWloV8haI0UBSFX45f5+PNZ4lKTAWgVc0KvNe7AT5VS8fu4uWdpJK58NfPY5EeFiGelEajoWnTpmzfvt3g+Pbt2wkICMj1PikpKTkSDt2kV93csrzaKIoi88+EgRPXEui/cB8T1hwjKjGV6s7WLBjqz+oXW0myUopID0su7heQSyYlPVPKLgvxhCZNmkRQUBDNmjWjdevWLFq0iPDwcP0QT3BwMJGRkSxfvhyAPn368OKLL7JgwQK6d+9OVFQUEydOpEWLFlStWlXfZt68efj5+dGyZUv+++8/3n33XZ5++mlZ0SMAiE1O5ZMt51h79BqKAtYWal7pWIvRbWtiZSGvkdJG/hLnws3RGlcHK6KTUjkekUjrWlLVUIgnMXDgQOLj45kxYwZRUVE0bNiQTZs24enpCUBUVBTh4eH69iNGjCA5OZmvvvqKN954AycnJzp16sTs2bP1baZOnYpKpWLq1KlERkZSuXJl+vTpw4cffljs1ydKlrTMLL775wpf/nmBO+lZADzrV423n/LG1bFwigqK4qdSykjfaVJSEo6OjiQmJuLg8ORdfC+vOsKmk9G81b0er3SsXQgRClG2FfZ7sDiUxphF3hRFYfvpGD7cdIar8dr9ixq7O/F+Hx/9UL8oefL7PpQeljz4eziz6WS0FJATQohS4HxMMjN+Pc2e/+IAqGxvyeSnvHnGrxpmUk6/TJCEJQ+6AnJh9wrIyaZnQghR8iSkpPPZ9vOsPBBOVraCRm3G6LY1eLljbexkA9syRf5v5kFXQC7+TjrhN1PwrCgF5IQQoiQ5E5XE80sPEpucBkD3Bi5M6emDR0UbE0cmioIkLHmwNFfjU9WBYxEJHA2/JQmLEEKUIEeu3mTkd4dISs2kZmVbPujbkMDasmFtWSZ1WB5BX4/laoJpAxFCCKG38/wNhn57gKTUTJp5OrPh5UBJVsoBSVgeQVePRQrICSFEyfDbieuM/v4QqRnZtK9bmRWjWuJobWHqsEQxkITlEXQ9LLoCckIIIUznhwPhvLY6jIwshd6N3Fg8vBnWGikAV14UKGGZP38+NWrUwMrKiqZNm7J79+482+7YsQOVSpXjdvbsWX2bZcuW5domNTW1IOEVmqpO2gJyWdkKJ64lmjQWIYQozxbsuMj/bTiJosDQlh58PsgPjbl85y5PjP6/HRoaysSJE5kyZQphYWG0bduWHj16GFSpzM25c+eIiorS3+rUqWPwewcHB4PfR0VFYWVl+oqEfh5OgAwLCSGEKSiKwqxNZ5i9Rfsl95WOtZjZryFqqa1S8t2Jh7uF97fT6FVC8+bNY9SoUfodUkNCQti6dSsLFixg1qxZed6vSpUqODk55fl7lUqFq6urseEUOX8PZzb/Gy0Tb4UQophlZSv83/qThB6OAGBKz/q82K6miaMSOaSnwI0zEHsGYk5D7Cntf+/EQrcPIeDVQnkYoxKW9PR0jhw5wuTJkw2Od+vWjb179z7yvn5+fqSmpuLj48PUqVPp2LGjwe9v376Np6cnWVlZNGnShA8++AA/P788z5eWlkZaWpr+30lJScZcSr7pJt6Ghd+SAnJCCFFM0jKzeD30GJtORmOmgo+fbcSA5u6mDqt8y8qEm5fuJySx9243LwN57PKTHFVoD29UwhIXF0dWVhYuLi4Gx11cXIiOjs71Pm5ubixatIimTZuSlpbGihUr6Ny5Mzt27KBdu3YAeHt7s2zZMnx9fUlKSuLzzz8nMDCQ48eP5xg60pk1axbTp083JvwCaVDVEQu1ivg76UTcvCsFiYQQoojdSctk3Moj7L4Qh0ZtxheDm/BUQzdTh1V+KAokXb+fkOh6TW6ch6y03O9jWxmq1IcqDcDFR/vfyvXA0q7QwipQ4biHexke1fNQr1496tWrp/9369atiYiIYO7cufqEpVWrVrRq1UrfJjAwEH9/f7788ku++OKLXM8bHBzMpEmT9P9OSkrC3b3ws28rCzUNqjrqC8hJwiKEEEUnISWdEd8d4lhEAjYaNYuCmtGmjtRYKTJ3E7RDOfpek3s/p+ax0MTC5l5i4qO96ZITu8pFHqpRCUulSpVQq9U5elNiY2Nz9Lo8SqtWrVi5cmWevzczM6N58+ZcuHAhzzaWlpZYWlrm+zGfhJ+Hkz5h6edXrVgeUwghypuYpFSGLznIuZhkHK0tWDayuX5fN/GEMtPgxrmHkpPTkBSZe3uVGirWvp+QuPhoExUnLzAzzeosoxIWjUZD06ZN2b59O88884z++Pbt2+nbt2++zxMWFoabW97de4qicOzYMXx9fY0Jr8j4ezjz3T9XZKWQEEIUkavxdxi25AARN+/i4mDJilEtqetib+qwSp/sbEi4YjjHJOY0xP8HSlbu93Gofj8h0SUnleqCefF0CuSX0UNCkyZNIigoiGbNmtG6dWsWLVpEeHg448aNA7RDNZGRkSxfvhzQriLy8vKiQYMGpKens3LlStatW8e6dev055w+fTqtWrWiTp06JCUl8cUXX3Ds2DG+/vrrQrrMJ+Pvqc3wz0RpC8jZaGQLJiGEKCxno5MIWnKQG8lpeFa0YeWolrhXkOH3x7odCzGnDHtNbpyFjJTc21s5PtBborvVB2unYg27oIz+yztw4EDi4+OZMWMGUVFRNGzYkE2bNuHp6QlAVFSUQU2W9PR03nzzTSIjI7G2tqZBgwb8/vvv9OzZU98mISGBMWPGEB0djaOjI35+fuzatYsWLVoUwiU+uaqOVrg4WBKTlMbJa4m0rFnR1CEJIUSZ8OAmht6u9iwf1YIq9qavwVWipN3WJiIxpwx7TVLicm+vttROeH1wjomLD9i7QSle6apSFCWPtUilS1JSEo6OjiQmJuLg4FDo539p5RE2/xvNO09581KHWoV+fiFKu6J+DxaF0hhzWbLz/A3GrTjC3Ywsmno6s/T55jjalON9gbKzIO78A70mp7U/J1zN4w4qqFDjXmLS4P6QToWaoC49IwH5fR+WnisyMT8PJ20BOZnHIoQQT+z3E1FMDNXuC9S+bmUWDPMvv8Ptd+Lg6HI4/B0k5lE13rZKzgmwlb1BY1u8sZpQOX11GE+3EaIUkBNCiCez+mC4fl+g3o3cmDegSfnbF0hR4NohOPQtnNoAWena4xa2OSfAVvEBW1naLQlLPjWspi0gF3dbCsgJIURBLdhxUb8v0JCWHnzQt5ztC5R+B07+pE1Uok/eP17VH1q8CA2eAQtr08VXgknCkk9WFmp8qjpyPCKBsAgpICeEEMZQFIWPt5zlm52XAHi5Qy3e6l6v/PRWx12AQ0vg2A+Qdq8om7kVNOwPzV+Aak1NG18pIAmLEfw9nDgekcDRq7fo20QKyAkhRH5kZStM2XCSNYe0mxj+X09vxrQrB4sXsjLh3CZtb8rlnfePO9eA5qOgyVCwqWC6+EoZSViM4KcvIJdg6lCEEKJUSMvMYlLocX4/GYWZCmY968vA5h6mDqtoJUffn0SbfP3eQRXUfQpajIaanUxWLbY0k4TFCP4eTgCciUribnoW1hq1aQMSQogS7OFNDD8f1IQevmV0E0NFgat7tb0pZ36B7EztcZtK4D8cmo4AZ0+ThljaScJihGpO1lSxtyQ2OY0T1xKkgJwQQuQhISWdkcsOERZexjcxTEuG42u081NunLl/3L0lNH8RfJ4ucSXuSytJWIygUqnw93Bmy6lowiIkYRFCiNzEJqUSVNY3MYw5DYeXaJOV9NvaYxY20GgANBsFbo1MG18ZJAmLkfw9ndhyKpqjV6WAnBBCPOzBTQyr2Gs3MaznWkY2McxMh7O/aYd9rv5z/3jFOtB8NDQeVGr25SmNJGExkq6A3NHwBCkgJ4QQDyizmxgmRsKRZXD0e7gdoz2mUoN3T+2wT412pXqPntJCEhYjNazmiLmZirjbaVy7dbdsvBmFEOIJHbl6i5HfHby/ieELLajiUIo3MVQU7VLkQ9/C2U2gZGmP27loJ9D6Pw+OUt6iOEnCYiQrCzUNqjpw/FoiR8NvScIihCj3dp2/wdh7mxj6ezjx3YgWpXcTw7sJcHy1dhJt/IX7xz3baJcke/cGdSm9tlJOEpYC8PNw1iYsUkBOCFHObToZxYQ12k0M29WtzMLSuolh1Altb8rJnyAjRXtMYweNB2uLvFWpb9r4hCQsBeHv6cyyvVcIi0gwdShCCGEyqw+GM2XDSbIV6NXIjc9K2yaGmWlweiMcXAzXDt4/Xrm+tjel0UCwLCMThssASVgKQFdA7vT1JFIzsrCykAJyQojyZeHOi3y8WbuJ4eAWHszsV4o2MUwIh8NL4egKSInTHjMzh/pPazcg9Ggtk2hLIElYCqCakzWV7S25kZzGiWuJtKghe0EIIcoHRVGYveUcC3deBOClDrV4uzRsYpidDRf/0g77nN8CKNrjDtWg6UhtNVp7F5OGKB5NEpYC0BaQc2LrqRiOht+ShEUIUS5kZStM/fkkqw9qNzEM7uHN2PYlfBPDlJsQtlLbo3Lr8v3jNTtoa6fU7QFq+VNYGsj/pQLy93DWJixSQE4IUQ48vInhR8/4MqhFCd7EMPKIdqXPv+sgM1V7zNIR/IZCsxegUh3TxieMJglLAfl7agvIhUVIATkhRNmWkp7J2BXaTQwt1Co+H+RHz5K4iWHGXfh3PRxaDNfD7h939dUWePPtDxpb08UnnogkLAXke6+A3I1kKSAnhCi7ElMyGLnsIEfvbWL4TVBT2tapbOqwDN28pO1NCVsJqQnaY2oNNHhGm6hUbyaTaMsASVgKyMpCjU9VB05IATkhRBkVm5TK8KUHORut3cTwu5HN9duTmMzdW9qNB2Pv3aL/NVyS7OgBzV8AvyCwLYO7Q5djkrA8AX8PZ05cSyQsPEEKyAkhypTw+BSGLTlA+M0U02ximJEKcefuJSenIPaM9ufk67k0VkHtLtpJtHW6gpmUmiiLJGF5An4eTizbC0fDZeKtEKLsOBedTNCSA8Qmp+FRQbuJoUfFIupFzs6CW1e0vSW65CTmNNy8CEp27vdxdIcqPtrqsy4NwL0lOHsWTXyixJCE5QnoukalgJwQoqw4Gn6Lkd8dIvFuRuFuYqgocDv2fkISe+Zez8lZyLyb+32snLQJSRUfcPG5n6RYOT55PKLUkYTlCVR3vl9A7mRkIs29pB6LEKL02n3hBmOWF8ImhmnJ2kREn5zcu6XE597e3Aoq14MqDe71mvhof7Z3lcmyQk8SliegUqnwc3di22ltPRZJWIQQpdWDmxi2rVOJb4KaPn4Tw6wMiLtwPyHRDekkhOdxBxVUqHk/IdH1mlSoKfNOxGNJwvKE/D2dtQmLzGMR4pHmz5/PJ598QlRUFA0aNCAkJIS2bdvm2X7VqlXMmTOHCxcu4OjoyFNPPcXcuXOpWLGivk1CQgJTpkxh/fr13Lp1ixo1avDpp5/Ss2fP4rikMmPNwXD+T7eJoa8bnw18aBNDRYHECMM5JrFnIO48ZGfkflI71weGce4N6VSqBxpZUSkKRhKWJ6Sbx3I0XArICZGX0NBQJk6cyPz58wkMDOSbb76hR48enD59Gg+PnNVS9+zZw/Dhw/nss8/o06cPkZGRjBs3jtGjR7NhwwYA0tPT6dq1K1WqVGHt2rVUr16diIgI7O1ld11jfLPzIrP0mxi6M7NbNdQR/9yfY6JLTtKTcz+Bxt5wGEeXpNhIj7MoXJKwPKFG1e8XkItMuEt1Z/n2IMTD5s2bx6hRoxg9ejQAISEhbN26lQULFjBr1qwc7ffv34+Xlxfjx48HoEaNGowdO5Y5c+bo2yxdupSbN2+yd+9eLCy08yw8PWWlSH4p6Sl8/8tWLoTtY4p5BJ0rxlPj0lVUc6Nzv4OZBVSqey8hqX8/OXF0l3kmolhIwvKEDAvIJUjCIsRD0tPTOXLkCJMnTzY43q1bN/bu3ZvrfQICApgyZQqbNm2iR48exMbGsnbtWnr16qVv88svv9C6dWteeeUVNm7cSOXKlRkyZAjvvPMOanXu8yHS0tJIS0vT/zspKakQrrCUifsPZf2LKNePMYJs0M2pTXygjZOn4coclwZQsTaoCzABV4hCIglLIfBzd9ImLFdv8XTjqqYOR4gSJS4ujqysLFxcXAyOu7i4EB2d+7f5gIAAVq1axcCBA0lNTSUzM5Onn36aL7/8Ut/m0qVL/PXXXwwdOpRNmzZx4cIFXnnlFTIzM3nvvfdyPe+sWbOYPn164V1caXPrKsryp1ElRaIC4hV7MivVx6W2//1ekyreYCnDaqLkMXt8E/E4+o0QZeKtEHl6eH7Xo+Z8nT59mvHjx/Pee+9x5MgRtmzZwuXLlxk3bpy+TXZ2NlWqVGHRokU0bdqUQYMGMWXKFBYsWJBnDMHBwSQmJupvERERhXNxpUHSdfi+D6qkSC5kV6NDxhcc+N9BXF7bDj1mQ9MR4N5ckhVRYkkPSyHQTbw9JQXkhMihUqVKqNXqHL0psbGxOXpddGbNmkVgYCBvvfUWAI0aNcLW1pa2bdsyc+ZM3NzccHNzw8LCwmD4p379+kRHR5Oeno5Go8lxXktLSywtLQvx6kqJ27Hw/dOQcJVbltUZmhhMx2aN6NlIeoRF6SE9LIWgurM1lewsycxW+Dcy8fF3EKIc0Wg0NG3alO3btxsc3759OwEBAbneJyUlBTMzw48nXWKiKAoAgYGB/Pfff2Rn3y/ffv78edzc3HJNVsqtlJuwvB/EXwCH6rzv9BGxOOPn4WTqyIQwiiQshUClUuF/780v9ViEyGnSpEl8++23LF26lDNnzvD6668THh6uH+IJDg5m+PDh+vZ9+vRh/fr1LFiwgEuXLvHPP/8wfvx4WrRoQdWq2l6Bl156ifj4eCZMmMD58+f5/fff+eijj3jllVdMco0lUmoirHxWuzzZzoWs4b/wV7S2zH4TSVhEKSNDQoXEz+NeAbmrCaYORYgSZ+DAgcTHxzNjxgyioqJo2LAhmzZt0i9DjoqKIjz8fnXUESNGkJyczFdffcUbb7yBk5MTnTp1Yvbs2fo27u7ubNu2jddff51GjRpRrVo1JkyYwDvvvFPs11cipd+BVQPgehjYVIThv3Axqwq3085iq1FTp4rMVRGli0rR9a+WcklJSTg6OpKYmIiDg0OxP/6BS/EMXLSfKvaWHPi/zlJATpQ7pn4PFkRpjDlfMlJh9UC4tEO7UeDzv4JbY0IPhfPOupO0qlmBNWNamzpKIYD8vw9lSKiQNKruhLmZith7BeSEEMIkMtPhx+HaZEVjB0PXgVtjAI5FJADQxN3ZdPEJUUCSsBQSa42a+m7azDAsPMG0wQghyqesTFg/Gi5sBXNrGBKqXap8j+6zqYm7k2niE+IJSMJSiGTirRDCZLKzYeMrcHojqDUwaCV4tdH/+k5aJudjtPsByQohURoVKGGZP38+NWrUwMrKiqZNm7J79+482+7YsQOVSpXjdvbsWYN269atw8fHB0tLS3x8fPQbnJUmfg9shCiEEMVGUeD3SXBiDajU8NwyqN3FoMnJyESyFXBztMLFwco0cQrxBIxOWHS7rk6ZMoWwsDDatm1Ljx49DGb45+bcuXNERUXpb3Xq1NH/bt++fQwcOJCgoCCOHz9OUFAQAwYM4MCBA8ZfkQnpCsidvp5IakaWiaMRQpQLigJbp8CR7wAVPLsIvHvlaHZ//opTsYYnRGExOmF5cNfV+vXrExISgru7+yPLYQNUqVIFV1dX/e3B6pQhISF07dqV4OBgvL29CQ4OpnPnzoSEhBh9QabkXsGaSnYaMrKkgJwQopj8/SHs/1r7c9+vwLd/rs2O3ev5leEgUVoZlbDodl3t1q2bwfFH7bqq4+fnh5ubG507d+bvv/82+N2+fftynLN79+6PPGdaWhpJSUkGN1NTqVQPDAvJPBYhRBHb/Sns+kT7c8+54Dcsz6ayQkiUdkYlLAXZddXNzY1Fixaxbt061q9fT7169ejcuTO7du3St4mOjjbqnKDda8TR0VF/c3d3N+ZSioxuWEhWCgkhitT+BfDnDO3PXWdAixfzbBqVeJfopFTUZip8qzkWU4BCFK4CVbo1ZtfVevXqUa9ePf2/W7duTUREBHPnzqVdu3YFOidoS3lPmjRJ/++kpKQSkbQ8uFLocdcghBAFcmQZbJms/blDMAROeGRz3XBQPRd7rDWyOasonYzqYSnIrqu5adWqFRcuXND/29XV1ehzWlpa4uDgYHArCXyrO6I2UxGTlMb1xFRThyOEKGuOh8KvE7U/B4yH9o/fikA/HCTzV0QpZlTCUpBdV3MTFhaGm5ub/t+tW7fOcc5t27YZdc6SwkZjTn037R4dR6/KPBYhRCE6vRF+fglQoPmL2qGgfPTihskKIVEGGD0kNGnSJIKCgmjWrBmtW7dm0aJFOXZdjYyMZPny5YB2BZCXlxcNGjQgPT2dlStXsm7dOtatW6c/54QJE2jXrh2zZ8+mb9++bNy4kT/++IM9e/YU0mUWL38PZ/6NTOJo+C36NK5q6nCEEGXB+W2wdhQoWdBkGPSYk69kJTMrm5PXtKsW/SRhEaWY0QmLsbuupqen8+abbxIZGYm1tTUNGjTg999/p2fPnvo2AQEBrFmzhqlTp/Luu+9Sq1YtQkNDadmyZSFcYvHz93Bm+b6rMvFWCFE4Lu2E0GGQnQEN/wdPfwFm+esgPx9zm7sZWdhbmlOrsl0RBypE0ZHdmotAeHwK7T75Gwu1ipPTumNlIZPcRNlXkt6D+VUqYg7fDyuehYw7UK8XDPge1Bb5vvsPB8L5vw0naVO7EitHl84vgaJsk92aTci9gjUVbbUF5E5dlwJyQogCijwKq57TJiu1OsNz3xmVrAAci9DOpZP5K6K0k4SlCBgUkLuaYNpghBClU8wpWPkspCWBZyAMXAnmlkafRnZoFmWFJCxFxN/TCZCKt0KIAoi7AMv7wt1bUK0ZDAkFjY3Rp0lOzeC/G7cBWdIsSj9JWIqIVLwVQhTIrSvw/dNw5wa4+sKwdWBpX6BTnbiWiKJAdWdrKtkZ3zsjREkiCUsRaXSvgFx0UirXE+6aOhwhRGmQGKlNVpKvQ2VvCPoZrJ0KfDrZoVmUJZKwFBEbjTnervcKyMmwkBDicW7HwvKnIeEqVKgJwzeCbaUnOqXMXxFliSQsRchfJt4KIfIj5SYs7wfx/4GjOwz/Bexdn+iUiqLoe1j8ZP6KKAMkYSlCMvFWCPFYqYmw4hmIPQV2rtqeFacn38g1MuEucbfTsFCraFBVdmgWpZ8kLEVI18Ny+noSaZlZJo5GCFHipN+BVQMg6hjYVNQmKxVrFcqpdb0r9d0cpHilKBMkYSlCHhVsqGirIT0rm38jk0wdjhCiJMm4C6sHQcR+sHLUTrCt4l1op5f5K6KskYSlCGkLyDkBECbDQkIIncx0+HE4XN4FGjsYth7cGhXqQ8gKIVHWSMJSxPQVbyVhEUIAZGXCulFwYRuYW8OQH6F6s0J9iIysbP6N1G4LIgmLKCskYSlislJICKGXnQ0bX4Yzv4BaA4NWgVdgoT/M2ahk0jKzcbS2oEYl20I/vxCmIAlLEWvsfr+AXFSiFJATotxSFPj9dTgRCmbm8Nz3ULtzkTyUbsPDxu5OqFSqInkMIYqbJCxFzKCAnPSyCFE+KQpsCYYjy0BlBs8uAu+eRfZwYTJ/RZRBkrAUA93EW5nHIkQ59dcHcGCB9uenv4KG/yvSh5OCcaIskoSlGPjLxFshyq9dn8DuT7U/95wLfkOL9OESUzK4dOMOAE2qOxXpYwlRnCRhKQa6hOVUpBSQE6Jc2Tcf/pqp/bnrB9DixSJ/yGPXEgDwqmiDs62myB9PiOIiCUsx8KxoQ4V7BeROXZcCckKUC4e/g63B2p87/B8Eji+Whz0mBeNEGSUJSzFQqVT46+axXJVhISHKvONr4LfXtT8HToD2bxfbQ+tWCEnCIsoaSViKia6AnK5cthCijDr1M/z8EqBAizHQZToU09LiB3dobnLvM0eIskISlmIiK4WEKAfOb9VWsVWywW8YPDW72JIVgPCbKdxKyUCjNqO+m32xPa4QxUESlmLSuLoTZiqISpQCckKUSZd2QGgQZGdCw/7Q5wswK96PWF3vik9VByzNZYdmUbZIwlJMbC3N8XZ1AGRYSIgy5+o+WD0YstLAuzc8sxDMij9hkB2aRVkmCUsx8vd0AmTirRBlSuQRWPUcZKRA7S7QfymoLUwSihSME2WZJCzFSArICVHGRP8LK56F9GTwbAMDVoC5pUlCScvM4vS9sgl+7jLhVpQ9krAUI91KoX+lgJwQpd+N87CiH6QmQPXmMGQNaGxMFs7p60mkZ2VTwVaDewVrk8UhRFGRhKUYeUkBOSHKhpuXYXlfuHMDXBvB0LVgadpVOcce2PBQdmgWZZEkLMVIpVLhd28ynMxjEaKUSrwGy5+G5OtQ2RuCfgZrJ1NHZZCwCFEWScJSzPw97xWQu/fhIoQoRZJjtD0rCeFQoSYM3wi2FU0dFSAJiyj7JGEpZrrZ+2HSwyJE6ZJyUztnJf4/cHSH4b+AvaupowLg5p10rsanANBYEhZRRknCUsx0BeSuJ6YSnZhq6nCEKDbz58+nRo0aWFlZ0bRpU3bv3v3I9qtWraJx48bY2Njg5ubGyJEjiY+Pz7XtmjVrUKlU9OvXrwgiB1ITYcUzEHsa7Fzh+V/Ayb1oHqsAjt/rXalZ2RZHa9MsqRaiqEnCUsxsLc2pd6+AnCxvFuVFaGgoEydOZMqUKYSFhdG2bVt69OhBeHh4ru337NnD8OHDGTVqFKdOneKnn37i0KFDjB49Okfbq1ev8uabb9K2bduiu4AN4yDqGNhU0iYrFWoW3WMVQNi9zxJZzizKMklYTEB2bhblzbx58xg1ahSjR4+mfv36hISE4O7uzoIFC3Jtv3//fry8vBg/fjw1atSgTZs2jB07lsOHDxu0y8rKYujQoUyfPp2aNYswiej0LlSqB8N/hsr1iu5xCihMv+Ghk0njEKIoScJiAroCcjLxVpQH6enpHDlyhG7duhkc79atG3v37s31PgEBAVy7do1NmzahKAoxMTGsXbuWXr16GbSbMWMGlStXZtSoUfmKJS0tjaSkJINbvrj4wMv7wNU3f+2LUXa2oh8S8pP5K6IMk4TFBHQrhU5GJpKemW3iaIQoWnFxcWRlZeHi4mJw3MXFhejo6FzvExAQwKpVqxg4cCAajQZXV1ecnJz48ssv9W3++ecflixZwuLFi/Mdy6xZs3B0dNTf3N2NmIdigr2B8uNy/B2SUjOxNDejnqvs0CzKLklYTMCrog3ONhakZ2Zz6nqiqcMRolg8XMxMUZQ8C5ydPn2a8ePH895773HkyBG2bNnC5cuXGTduHADJyckMGzaMxYsXU6lSpXzHEBwcTGJiov4WERFR8AsqIY7d2/DQt5ojFmr5SBdll7mpAyiPVCoVfh7O/HU2lqPhCfqS/UKURZUqVUKtVufoTYmNjc3R66Iza9YsAgMDeeuttwBo1KgRtra2tG3blpkzZxITE8OVK1fo06eP/j7Z2dreSnNzc86dO0etWrVynNfS0hJLS9Ps9VNUpP6KKC8kHTcR/cRbWSkkyjiNRkPTpk3Zvn27wfHt27cTEBCQ631SUlIwMzP8eFKrtUMyiqLg7e3NyZMnOXbsmP729NNP07FjR44dO2bcUE8pd0wm3IpyQnpYTEQ38VbXnStEWTZp0iSCgoJo1qwZrVu3ZtGiRYSHh+uHeIKDg4mMjGT58uUA9OnThxdffJEFCxbQvXt3oqKimDhxIi1atKBq1aoANGzY0OAxnJyccj1elqVmZHEmSjtxWHpYRFknCYuJNHLXFpCLTLhLTFIqLg5Wpg5JiCIzcOBA4uPjmTFjBlFRUTRs2JBNmzbh6ekJQFRUlEFNlhEjRpCcnMxXX33FG2+8gZOTE506dWL27NmmuoQS6d/IRDKzFSrbW1LNSXZoFmWbSlEUxdRBFIakpCQcHR1JTEzEwcHB1OHky1MhuzgbncyCof708HUzdThCPJHS+B4sjTE/6Nvdl5j5+xm6+riweHgzU4cjRIHk931YoDksxpbY1vnnn38wNzenSZMmBseXLVuGSqXKcUtNLdul63XLm2UeixCiIMJkwq0oR4xOWIwtsa2TmJjI8OHD6dy5c66/d3BwICoqyuBmZVW2h0l081iOyjwWIUQB6ObAScE4UR4YnbAYW2JbZ+zYsQwZMoTWrVvn+nuVSoWrq6vB7VEKXLGyBNGtFJICckIIY91ITiMy4S4qFfhWdzR1OEIUOaMSloKU2Ab47rvvuHjxIu+//36ebW7fvo2npyfVq1end+/ehIWFPTKWJ6pYWULUqGSL070CcqejSl/CJYQwHd1y5jpV7LC3kh2aRdlnVMJSkBLbFy5cYPLkyaxatQpz89wXJXl7e7Ns2TJ++eUXVq9ejZWVFYGBgVy4cCHPWMpCxUqVSqXvypWNEIUQxjgWof3MkPkrorwo0LLm/JbYzsrKYsiQIUyfPp26devmeb5WrVrRqlUr/b8DAwPx9/fnyy+/5Isvvsj1PmWlYqW/hzN/n7vB0fBbvEANU4cjhCgl7le4lUrZonwwKmExtsR2cnIyhw8fJiwsjFdffRXQls9WFAVzc3O2bdtGp06dctzPzMyM5s2bP7KHpazQrRQKk4m3Qoh8yspWOB6h3YfMTyrcinLCqCEhY0tsOzg45CifPW7cOOrVq8exY8do2bJlro+jKArHjh3Dza3s1yZp/FABOSGEeJyLN25zOy0TG42aui6yQ7MoH4weEjKmxLaZmVmOMtlVqlTBysrK4Pj06dNp1aoVderUISkpiS+++IJjx47x9ddfP+HllXx2lubUdbHnbHQyYeG3eKph2U/ShBBP5sEdmtVmue94LURZY3TCYmyJ7fxISEhgzJgxREdH4+joiJ+fH7t27aJFixbGhlcq+Xk4czY6maPhCZKwCCEeK0w2PBTlkJTmLwF+OhzBW2tP0MzTmbUv5b57rRAlXWl8D5bGmAF6fL6bM1FJLBzmL19yRKlXpKX5ReHSTbw9IQXkhBCPkZKeyblo3Q7NskJIlB+SsJQANR8oIHdGCsgJIR7h5LVEshVwdbDC1bFsb18ixIMkYSkBDArIyUaIQohHOCYbHopyShKWEsJPNkIUQuSDrmaTTLgV5Y0kLCWEfudmKdEvhHgEXQ+L7NAsyhtJWEqIxu6OqO4VkIuVAnJCiFxEJ6YSnZSK2kwlOzSLcqf8JSzxF+HGeVNHkYO9lQX17lWslHksQojc6DY8rOtij42mQFvBCVFqla+EJfpfWNINVjwDiZGmjiYH3TwW2VdICJGbMJlwK8qx8pWw2LuBtTMkXYOVz0LKTVNHZMD/3iQ66WERQuRGV5Jf5q+I8qh8JSy2FSFovTZxuXEWVg+G9BRTR6Wn62E5cU0KyAkhDGVlK5yM1O7QLCuERHlUvhIWACcPGLYerBwhYj+sfQGyMk0dFaAtIOdobUGaFJATQjzkfEwyKelZ2FmaU6uynanDEaLYlb+EBcDFBwaHgrkVnN8Mv02AErClkpmZCj8ZFhJC5EI3t61RddmhWZRP5TNhAfBsDf2/A5UZhK2Evz4wdUTA/XosMvFWCPEg3QohPxkOEuVU+U1YALx7Qp/PtT/v/hT2LzRtPDxQQE56WIQQD7hfkl82PBTlU/lOWAD8h0Ond7U/b3kHTq41aTi6AnLXbt0lNlkKyAkhIDk1gwuxtwFZ0izKL0lYANq+AS3Gan/eMA4u/mWyUOytLKhb5V4BuasJJotDCFFynLyWiKJANSdrKttbmjocIUxCEhYAlQqe+hgaPAPZGRAaBJFHTRaOv6cTAGEyLCSE4IGCcTJ/RZRjkrDomJnBM99AjfaQfhtWPact428CUvFWCPEg2fBQCElYDJlbwsCV4NYYUuK0JfyTo4s9DN3E2xORCWRkSQE5IcozRVEemHDrZNJYhDAlSVgeZuUAQ9eCcw1IuAor+0NqYrGGULOSLQ5W5qRmSAE5Icq7yIS73EhOw9xMRcNqskOzKL8kYcmNXRUI2gC2VSDmJKweAhnFt2JHW0Du3vLmqzKPRYjyTNe7Ut/NASsLtWmDEcKEJGHJS4UaMGwdaOzh6h5YPxqys4rt4e/XY0kotscUQpQ8ug0PZThIlHeSsDyKWyMY/AOoNXDmV/j9jWIr4a9fKRQhPSxClGcyf0UILUlYHqdGO3h2MaCCI9/BztnF8rCN3Z1QqSDipnb8WghR/mRkZcsOzULcIwlLfjToB73man/eMQsOLSnyh3SwsqBOFe2OrFKmX4jy6Vx0MmmZ2ThYmVOjoq2pwxHCpCRhya/mo6H9O9qff38DTm8s8oeUfYWEKN90BeMauzthJjs0i3JOEhZjdAiGpiMABdaNhsu7i/Th9Ds3S4l+Icol3YRbKRgnhCQsxlGpoNc88O4NWemwZghEnSiyh9NNvJUCckKUT7pJ9zJ/RQhJWIxnpob/LQHPQEhLglX94eblInmompXs9AXkzkYlF8ljCCFKpsSUDC7duANAE3dnE0cjhOlJwlIQFlYw6AdwaQi3Y2Dls3D7RqE/jJmZiiYyj0WIcun4tQQAPCvaUMFWY9pghCgBJGEpKGsnbQl/Jw+4eUnb05JW+L0g/ve6giVhEaJ8kforQhiShOVJOLjBsA1gUxGijkHoMMhML9SHkJVCQpRPkrAIYUgSlidVqTYM/QksbOHSDvh5HGQX3gTZJh5SQE6I8kZ2aBYiJ0lYCkO1pjBwBZiZw7/rYGtwoZXwf7CAXJj0sghRLkTcvMvNO+lo1Gb4VHUwdThClAiSsBSW2p2h30LtzwcWwp55hXZqP3fZCFGUfvPnz6dGjRpYWVnRtGlTdu9+dB2jVatW0bhxY2xsbHBzc2PkyJHEx8frf7948WLatm2Ls7Mzzs7OdOnShYMHDxb1ZRQL3XLm+lUdsDSXHZqFAElYClej56D7LO3Pf86Ao8sL5bS6eiwyj0WUVqGhoUycOJEpU6YQFhZG27Zt6dGjB+Hh4bm237NnD8OHD2fUqFGcOnWKn376iUOHDjF69Gh9mx07djB48GD+/vtv9u3bh4eHB926dSMyMrK4LqvIhEnBOCFykISlsLV+GQInan/+dQKc3fTEp9RNvD1xTQrIidJp3rx5jBo1itGjR1O/fn1CQkJwd3dnwYIFubbfv38/Xl5ejB8/nho1atCmTRvGjh3L4cOH9W1WrVrFyy+/TJMmTfD29mbx4sVkZ2fz559/FtdlFRmZvyJETpKwFIUu06DJUFCyYe1ICN//RKerVVkKyInSKz09nSNHjtCtWzeD4926dWPv3r253icgIIBr166xadMmFEUhJiaGtWvX0qtXrzwfJyUlhYyMDCpUqJBnm7S0NJKSkgxuJU1aZhanr2vj8pMKt0LoScJSFFQq6PMF1H0KMlPhhwEQe6bAp3uwgJxubFuI0iIuLo6srCxcXFwMjru4uBAdHZ3rfQICAli1ahUDBw5Eo9Hg6uqKk5MTX375ZZ6PM3nyZKpVq0aXLl3ybDNr1iwcHR31N3d394JdVBE6E5VMelY2FWw1eFSwMXU4QpQYkrAUFbU59P8OqreA1ERY8SwkRBT4dPoCclclYRGlk0pluNuwoig5jumcPn2a8ePH895773HkyBG2bNnC5cuXGTduXK7t58yZw+rVq1m/fj1WVlZ5xhAcHExiYqL+FhFR8PdkUTl2b65a4+qOeT4/QpRH5qYOoEzT2MCQUFj6FMSd05bwf2Er2OTdZZ0XPw9ZKSRKp0qVKqFWq3P0psTGxuboddGZNWsWgYGBvPXWWwA0atQIW1tb2rZty8yZM3Fzc9O3nTt3Lh999BF//PEHjRo1emQslpaWWFpaPuEVFa3781dk/yAhHlSgHhZjlyfq/PPPP5ibm9OkSZMcv1u3bh0+Pj5YWlri4+PDhg0bChJayWNTAYLWg0M1iDsPq56D9DtGn0Y3+S78Zgpxt6WAnCg9NBoNTZs2Zfv27QbHt2/fTkBAQK73SUlJwczM8ONJrdYu71UeqHH0ySef8MEHH7BlyxaaNWtWyJGbhj5hkfkrQhgwOmExdnmiTmJiIsOHD6dz5845frdv3z4GDhxIUFAQx48fJygoiAEDBnDgwAFjwyuZHKvDsPVg5QSRh+HH5yErw7hTWN8vICfDQqK0mTRpEt9++y1Lly7lzJkzvP7664SHh+uHeIKDgxk+fLi+fZ8+fVi/fj0LFizg0qVL/PPPP4wfP54WLVpQtWpVQDsMNHXqVJYuXYqXlxfR0dFER0dz+/Ztk1xjYbh1J50r8SkANKnuZNpghChpFCO1aNFCGTdunMExb29vZfLkyY+838CBA5WpU6cq77//vtK4cWOD3w0YMEB56qmnDI51795dGTRoUL7jSkxMVAAlMTEx3/cpduEHFOUDF0V530FR1o1RlKwso+7+9k/HFc93flM+3nymiAIUouAe9x78+uuvFU9PT0Wj0Sj+/v7Kzp079b97/vnnlfbt2xu0/+KLLxQfHx/F2tpacXNzU4YOHapcu3ZN/3tPT08FyHF7//33Cy3m4vbXmRjF853flI6f/G3qUIQoNvl9Hxo1h0W3PHHy5MkGxx+1PBHgu+++4+LFi6xcuZKZM2fm+P2+fft4/fXXDY51796dkJCQPM+ZlpZGWtr9oZGSuDwxB/cW8NwyWDMETqwBuyrQ7YN8393f04nQwxHSwyJKpZdffpmXX345198tW7Ysx7HXXnuN1157Lc/zXblypZAiKznCpP6KEHkyakioIMsTL1y4wOTJk1m1ahXm5rnnR9HR0UadE0rH8sRc1XsKnr63NHPvF7A372WaD/PTF5BLJFMKyAlR5ujmr0j9FSFyKtCk2/wuT8zKymLIkCFMnz6dunXrFso5dUrD8sQ8+Q2FLtO1P2+bCsdD83W32pXtsLcy525GFmejpYCcEGWJoigclxVCQuTJqCEhY5cnJicnc/jwYcLCwnj11VcByM7ORlEUzM3N2bZtG506dcLV1dWoJY9QOpYnPlLgBLgdC/u/ho0vg01FqJN3wSu4V0DO3YndF+I4Gn6LhtUciylYIURRuxx3h8S7GViam+HtZm/qcIQocYzqYTF2eaKDgwMnT57k2LFj+tu4ceOoV68ex44do2XLlgC0bt06xzm3bduW55LHMkGlgm4zwfc5yM6EH4Pg2uHH3k23r1CY1GMRokzRDQc1rOaIhVpqegrxMKMLx02aNImgoCCaNWtG69atWbRoUY7liZGRkSxfvhwzMzMaNmxocP8qVapgZWVlcHzChAm0a9eO2bNn07dvXzZu3Mgff/zBnj17nvDySjgzM+g7H1Li4eJf2hotL2yFynkPn/l76grIycRbIcoS2fBQiEczOo0fOHAgISEhzJgxgyZNmrBr1y42bdqEp6cnAFFRUY+tyfKwgIAA1qxZw3fffUejRo1YtmwZoaGh+h6YMs1cAwNWQFV/uHtTWw036XqezXW1Ga7GSwE5IcoSXa+pJCxC5E6lKA+UjSzFkpKScHR0JDExEQcHB1OHY7w7cbCkG9y8CFV8YOQmsM594l2XeTv5L/Y2i4c3o6tP3vN8hChOpfE9WFJiTs3IouH7W8nMVtj9dkfcZdNDUY7k930oA6UlhW0lCNoAdq4QexpWD4aMu7k21W+EKMNCQpQJp64nkpmtUMlOQ3Vna1OHI0SJJAlLSeLsCcPWgaUDhO+DtS9AVmaOZvcn3krCIkRZcH84yFl2aBYiD5KwlDSuDWHwGlBbwrlN8Pvr8NConW7i7fEIKSAnRFkgBeOEeDxJWEoir0DovxRUZnB0OfxluJ1B7cp22FtKATkhygpZISTE40nCUlLV7w295ml/3j0XDnyj/5WZmUq/9bwMCwlRusXdTuParbuoVNCouhSDFCIvkrCUZM1GQscp2p83vwP/rtP/Srev0FEpICdEqXbs3ntYu/WGhWmDEaIEk4SlpGv3FjQfDSiwfixc/Bu4v1JIeliEKN3CIrTvYRkOEuLRJGEp6VQq6DEHfPpCdgaEDoPrx/C7tznalfgUbiRLATkhSiv9/BWZcCvEI0nCUhqYqeHZxeDVFtJvw6r+ON4Np76btsDOSyuPkJyaYeIghRDGys5WOBGRCEgPixCPIwlLaWFuCYNWgasv3LkBK5/lk6dcsLcy5/DVWwQtOUjiXUlahChNLt64TXJaJtYWauq5yA7NQjyKJCyliZUjDF0Hzl5w6woN/36B0Od9cLKx4FhEAkO/3c+tO+mmjlIIkU9h94aDfKs7Yi47NAvxSPIOKW3sXWDYerCtDNEn8fl7DBv62VDRxoJ/I5MYvHi/bIooRCmhLxgnw0FCPJYkLKVRxVowdC1o7CB8LzXW92Kv41Ret9nMzehwBi3aT2xSqqmjFEI8xjHZoVmIfJOEpbSq2gRGboaG/wNzKyxvnWNC9gr2Wb3G1FvvsvDrOUTF3zR1lEKIPKSkZ3IuRlupWlYICfF45qYOQDwBt0baEv53E+D0z3BsNeqI/XRQH6dD2nGSv1zA7QbPYNdyOLi31C6RFkKUCCevJZKVreDiYImbo+zQLMTjSMJSFlg7QdMR2lv8RZIOruDOwZW4KTfg1CrtrUJNaDwYGg8CJw8TByyEkP2DhDCODAmVNRVr4dBjGmYTTzDJ+gPWZrUjBSu4eQn+/hBCfGFZbwhbBWm3TR2tEOXW/YTF2bSBCFFKSMJSRrk42hD88lgWV3iLZqnzec/sNe5UawOo4Mpu2PgyzK2jLfd/aQdkZ5s6ZCHKFelhEcI4krCUYZXtLVk9phVeblVYntKaNlETOD9kL3SaChVqQUYKnFgDy/tqe17+nAFx/5k6bCHKvJikVKISUzGTHZqFyDdJWMq4CrYafnixJY2qO3IrJYPnVl/jeI0X4bUjMGo7NB2pLUiXdA12fwpfNYVvu8ChJXBXNlYUoiiE3VvOXNfFHltLmUooRH5IwlIOONloWDm6Jf4eTiTezWDYtwc4En4L3FtAnxB44zz0/w7qdAOVGq4dgt8nwdx68OPzcH4rZGWa+jKEKDP0BeNkObMQ+SYJSznhYGXB8lEtaVGjAslpmQQtOcj+S/HaX1pYQcNnYehPMOkMdJsJVRpAVpp2ufQPA2Befdg6BaL/Nel1CFEWHIvQ9l7K/BUh8k8SlnLEztKc70e2oE3tSqSkZzHiu4PsuRBn2MjeBQJeg5f+gbG7oOVLYFMJ7sTCvq9gYSAsbAP75sPtG6a5ECFKsaxshRPXdDs0ywohIfJLEpZyxlqj5tvnm9GhXmVSM7J54ftD/H0uNmdDlQrcGkOPj+GNszBoNdTvA2YWEH0StgbDPG9YPRhO/wKZsn+REPlxPiaZlPQsbDVqalexM3U4QpQakrCUQ1YWar4JakpXHxfSM7MZu/wI205F530HtQV494SBK+HN89BzLlT1h+xMOLcJfgyCT+vB729C5BFQlOK7GCFKGd38lUbVnVCbSfVpIfJLEpZyytJczfyh/vTydSM9K5uXVx3l9xNRj7+jTQVo8SKM+RtePgCBE8HeTbui6NBiWNwJvm4Jez6DpOtFfh1ClDb6DQ9lwq0QRpGEpRyzUJvx+aAm9GtSlcxshddWH+XnsMj8n6CKN3SdDq+fgmHrwfc5MLeCuHPwxzT4rAGseAZO/ATpKUV2HUKUJvoVQjLhVgijSAGAcs5cbcanA5pgoTbjpyPXeP3HY6RnZTOgmXv+T2KmhtqdtbfUJP1GjITvhYt/aW8ae2jQD5oMAY/WshGjKJdup2VyPlZ2aBaiICRhEajNVMz+XyM05masOhDO22tPkJGVzdCWnsafzMoB/IdrbzcvwfFQOP4DJIRD2Artzdnr/kaMzl6FfTlClFgnriWgKFDNyZoq9lamDkeIUkWGhAQAZmYqZvZryMhALwCmbPiX7/65/GQnrVATOgbD+OMw4ndoMgw0dnDrCuyYBZ83hu96wtEVkJb8xNcgREkn+wcJUXCSsAg9lUrFe719GNu+JgDTfz3NNzsvPvmJzczAqw30+1q7yuiZRVCzA6CCq//AL6/CJ3Vg3Ytw9neZ7yLKLF1JfklYhDCeDAkJAyqVislPeWOpNuOLv/5j1uazpGVmM75zncJ5AI0tNB6ovSVegxOh2vku8Rfg5I/am7m1dj6Mdy+o+5R2ZZIQpZyiKPd7WGT+ihBGk4RF5KBSqZjUrR4aczPmbjvPvO3nycjKZlLXuqgKc7KsY3Vo+wa0maSt33JyrbaHJTEczv6mvanMwDNQm7zU6wnOBZhXI0QJcD0xlRvJaajNVDSsKjs0C2EsSVhEnl7tVAeNuRkfbTrLl3/9R3pmNpN7eBdu0gLaFUPVm2lvT83SVtI9+zuc+13785Xd2tuWyeDiq01evHuBq6+sNhKlhq7+irerPdYatWmDEaIUkoRFPNKYdrXQqM2Y9utpvtl1ibTMbN7v41P4SYuOSgVujbS3jsFw66q2mu7Z37XzXWJOam87PwZHj/vJi0drUMvLWZRcug0PZYdmIQpGPuHFY40IrIHGXM2Un0+ybO8V0rOymdm3IWbFUVbc2RNavaS93YmHC1u1yct/f2qHjg4s0N6snaFuD23yUqsTaGyKPjYhjHB/hZBseChEQUjCIvJlSEsPLNQq3l53gh8OhJOemc3s/zUq3r1QbCtqC881GaJdSXTp73tDR5vh7k1tvZfjP2gn7dbqdH/Srm3F4otRiFxkZGVzMlK3Q7OTaYMRopSShEXk23PN3NGYmzHpx+OsPXKNjKxsPn2uMeZqE6yO19jcHw7KyoSI/drk5cxv2p6Xc/fmwKjMwCPgXtueUqhOmMS56GRSM7KxtzKnZiVbU4cjRKkkCYswSt8m1dCozXhtdRgbj10nIyubzwf5YWGKpEVHba6t8+LVBrp/BDH/apOXs79pJ+1e3aO9bQ2WSbvCJMIeKBhXLEOpQpRBUjhOGK2HrxsLhjVFozZj08loXlp5lLTMLFOHpaVSaRORDpNh3B6YcAKe+hi82mp7W3QTdr9pCyGNYPNkuLxb20sjitT8+fOpUaMGVlZWNG3alN27dz+y/apVq2jcuDE2Nja4ubkxcuRI4uPjDdqsW7cOHx8fLC0t8fHxYcOGDUV5CQV2TArGCfHEJGERBdLVx4VFw5tiaW7GH2diGLviCKkZJSRpeZBu0u6I3+DN/6DfAvDurZ3nopu0+31vmFsbNrykHVKSSruFLjQ0lIkTJzJlyhTCwsJo27YtPXr0IDw8PNf2e/bsYfjw4YwaNYpTp07x008/cejQIUaPHq1vs2/fPgYOHEhQUBDHjx8nKCiIAQMGcODAgeK6rHzTrRCShEWIgitQwmLMN6U9e/YQGBhIxYoVsba2xtvbm88++8ygzbJly1CpVDluqampBQlPFJMO9aqwdERzrCzM2HHuBqO+P0RKegnuqdBN2h20Ct6+BIN+gCZDwboC3L2lnbAbOhTm1ITVQyBslXZlknhi8+bNY9SoUYwePZr69esTEhKCu7s7CxYsyLX9/v378fLyYvz48dSoUYM2bdowduxYDh8+rG8TEhJC165dCQ4Oxtvbm+DgYDp37kxISEgxXVX+JN7N4OKNO4AkLEI8CaMTFmO/Kdna2vLqq6+ya9cuzpw5w9SpU5k6dSqLFi0yaOfg4EBUVJTBzcpKdjMt6QJrV+L7kS2w1aj55794Rnx3iNtpJThp0dFN2u03H968oN2csdXL4OQBmXe1E3Y3vqztefmuJ+z7WrtpozBaeno6R44coVu3bgbHu3Xrxt69e3O9T0BAANeuXWPTpk0oikJMTAxr166lV69e+jb79u3Lcc7u3bvneU6AtLQ0kpKSDG5F7cS1BADcK1hT0c6yyB9PiLLK6ITF2G9Kfn5+DB48mAYNGuDl5cWwYcPo3r17jl4ZlUqFq6urwU2UDi1rVmT5qJbYW5pz8PJNhi85QFJqhqnDyj/dpN2nZmnnvIzbAx2CtXNhlGxtwbqt/6fdXXpBIPz9EUQdB0UxdeSlQlxcHFlZWbi4uBgcd3FxITo6Otf7BAQEsGrVKgYOHIhGo8HV1RUnJye+/PJLfZvo6Gijzgkwa9YsHB0d9Td3d/cnuLL80c1f8ZP6K0I8EaMSloJ8U3pYWFgYe/fupX379gbHb9++jaenJ9WrV6d3796EhYU98jym+KYk8tbU05lVL7bE0dqCo+EJDPv2AAkp6aYOy3iPnbT7L+ycDd+0gxBf2PwOXN4lk3bz4eHqyIqi5Fkx+fTp04wfP5733nuPI0eOsGXLFi5fvsy4ceMKfE6A4OBgEhMT9beIiIgCXk3+HXtghZAQouCMSlgK8k1Jp3r16lhaWtKsWTNeeeUVg8lz3t7eLFu2jF9++YXVq1djZWVFYGAgFy5cyPN8pvimJB6tUXUnVr/Yigq2Gk5cS2Tw4gPE304zdVhP5sFJu29dfGjSbgQcWAjf97k3aXccnPkV0u+YOuoSpVKlSqjV6hyfEbGxsTk+S3RmzZpFYGAgb731Fo0aNaJ79+7Mnz+fpUuXEhUVBYCrq6tR5wSwtLTEwcHB4FaUZIdmIQpPgSbdGvutBmD37t0cPnyYhQsXEhISwurVq/W/a9WqFcOGDaNx48a0bduWH3/8kbp16xp0/z7MFN+UxOP5VHVgzZhWVLKz5ExUEoMX7yc2uYxMnrapkMuk3WEPTNpdDaHD7k3aHQx7v4IreyC1fPf+aTQamjZtyvbt2w2Ob9++nYCAgFzvk5KSgpmZ4ceTWq3dMFC5NxTXunXrHOfctm1bnuc0hYibd4m/k46FWoWPW9EmR0KUdUYVjivINyWdGjVqAODr60tMTAzTpk1j8ODBubY1MzOjefPmj+xhsbS0xNJSJrCVRHVd7Akd24ohi/dzPuY2gxbt54fRrXB1LEOTqHNU2j1wr1jdr5AQrt2w8dym++0r1ga3JlC1ifa/bo3AytFEwRe/SZMmERQURLNmzWjdujWLFi0iPDxcP8QTHBxMZGQky5cvB6BPnz68+OKLLFiwgO7duxMVFcXEiRNp0aIFVatWBWDChAm0a9eO2bNn07dvXzZu3Mgff/zBnj17THadDwu7t5zZx80BKwvZoVmIJ2FUwvLgN6VnnnlGf3z79u307ds33+dRFIW0tLyHChRF4dixY/j6+hoTnihBalW248exrRmy+ACXbtxh4KJ9/PBiK6o5WZs6tMKnNgevQO2t+4cQcwrOb4HIoxB1DJIiIf4/7e3ftffvV6HmQ0lMY7B2MsklFLWBAwcSHx/PjBkziIqKomHDhmzatAlPT08AoqKiDFYajhgxguTkZL766iveeOMNnJyc6NSpE7Nnz9a3CQgIYM2aNUydOpV3332XWrVqERoaSsuWLYv9+vIi81eEKDwqRTFuqUNoaChBQUEsXLhQ/01p8eLFnDp1Ck9PzxzflL7++ms8PDzw9vYGtHVZJk6cyGuvvcbMmTMBmD59Oq1ataJOnTokJSXxxRdfsGLFCv755x9atGiRr7iSkpJwdHQkMTGxyMelRf5du5XCkMUHCL+ZQjUna1a/2AqPiuVsJ+XbN7SriqLC4Pox7c+JeQxhOtcwTGDcGmuHokqB0vgeLOqYn5n/D2HhCXw2sDHP+FUv9PMLURbk931o9F5Cxn5Tys7OJjg4mMuXL2Nubk6tWrX4+OOPGTt2rL5NQkICY8aMITo6GkdHR/z8/Ni1a1e+kxVRclV3tiF0bCuGLj7Apbg7DPhmHz+82JKale1MHVrxsasMdbpobzp34rS9L1HH7yUxx7RDSbcua2+nHigx7+R5P4nR/beUJDHlWXpmNqeua+cvNZElzUI8MaN7WEqq0vjtrjyJTUpl6LcHuBB7m8r2lvwwuiV1XOxNHVbJknJTm7joEpio43kXq3P0gKqNH0hi/LSVfE2oNL4HizLm4xEJ9P36H5xsLAh7t+tjFyYIUV4VWQ+LEAVRxcGKNWNaMfTbA5yNTmbQov2sHN2S+rJy4j6bClCrk/amc/eWYS/M9WPaHpjEcO3tzK/32zq6a4eQdAmMW2Nt744wiQfnr0iyIsSTk4RFFJuKdpasfrEVw5ce5GRkIoMX72fFCy3xrV5+VssYzdoZanbQ3nTuJkD0CcMk5uZF7byYxAg4+9v9tg7VDIeSqjYBuyrFFX25JhNuhShckrCIYuVsq2Hl6JaM+O4gYeEJDPl2P9+/0AJ/DxnjzzdrJ6jRTnvTSU2EqBMPDCkd165KSorU3s79fr+tfdV7CcwDQ0r2shVGYQsLlx2ahShMkrCIYudobcGKUS154btDHLxyk6BvD7DshRY095KJpAVm5Qg12mpvOqlJEH3ScF5M3AVIvg7nrhvWibFzfWhib2Owd9NuVSCMdutOOlfiUwBJWIQoLJKwCJOwszRn2QvNGf39YfZejGf4koMseb4ZAbUrmTq0ssPK4X59GJ2027kkMefhdrS2dsz5Lffb2lYxTGJqdwFzKdaYH8fu7dBco5ItTjYa0wYjRBkhCYswGRuNOUtHNGfsiiPsPH+DkcsOMf3pBgxo5o6ZmXyzLxKWduDZWnvTSb+jTWJ0Q0lRx+DGWbgTCxe2aW8qNfxfpKmiLnV0OzRL74oQhUcSFmFSVhZqFg1vyiurjvLHmVgmrz/JuqPX+PAZX+rKsufiobEFj1bam056inZnal0vTPptsCiDVYqLiEy4FaLwScIiTM7SXM3CYU1ZtvcK87af59CVW/T8fDdj29fktU51ZA8WU9DYgHsL7U0YRVEUjt8bEvKTHZqFKDQF2q1ZiMJmrjZjdNuabJ/Unq4+LmRmK3z990W6fbaLnedvmDo8IfLtSnwKCSkZaMzN8HaVOkNCFBZJWESJUs3JmsXDm/FNUFPcHK0Iv5nC80sP8trqMGKTU00dnhCPdezeDs0NqzqgMZePWCEKi7ybRInUvYEr2ye1Z1SbGpip4Nfj1+n86U5W7r9KdnaZ2E1ClFFh+gm3UltIiMIkCYsosewszXm3tw+/vNqGRtUdSU7NZOrP/9J/4V7ORieZOjwhcqWfcCvzV4QoVJKwiBKvYTVHNrwcyLQ+PthZmnM0PIFeX+xh1uYzpKRnmjo8IfRSM7I4E6VNpv1khZAQhUoSFlEqqM1UjAiswR+T2tOjoStZ2Qrf7LxE13m7+PtsrKnDEwKAU9eTyMhSqGirobqzLAMXojBJwiJKFVdHKxYMa8qS55tRzcmayIS7jFx2iJdXHSEmSSblCtOSHZqFKDqSsIhSqXN9F7ZPaseYdjVRm6nYdDKazp/u5Pu9V8iSSbnCRHQJi9RfEaLwScIiSi0bjTn/17M+v77ahibuTtxOy+T9X07x7Px/+Dcy0dThiXJIt6RZVggJUfgkYRGlnk9VB9a9FMAH/Rpib2XO8WuJPP3VHj747TR30mRSrigecbfTiLh5F5UKGrk7mjocIcocSVhEmaA2UxHUypM/J7WndyM3shVYsucyXeftZNupaFOHJ8oB3YaHtSrb4WBlYdpghCiDJGERZUoVByu+GuLPspHNca9gzfXEVMasOMKY5Ye5nnDX1OGJMkw2PBSiaEnCIsqkDvWqsG1ie17qUAtzMxXbTsfQdd5Oluy5TGZWtqnDE2WQJCxCFC1JWESZZa1R885T3vw+vi1NPZ25k57FB7+dpu/X/3Di3m66QhSG7GyF45KwCFGkJGERZV49V3t+GtuaWc/64mBlzqnrSfT7+h+m/XKK5NQMU4cnyoBLcbdJTsvEysIMb1d7U4cjRJkkCYsoF8zMVAxu4cGfb3SgX5OqZCuwbO8VuszbyZZ/o1AUqd0iCk634aFvNUfM1fKxKkRRkHeWKFcq21sSMsiPFaNa4FXRhpikNMatPMro7w9z7VaKqcMTpdT9gnFSf0WIoiIJiyiX2tapzJaJ7XitU20s1Cr+PBtL13m7WLTrIhkyKVcYSdfDIvNXhCg6krCIcsvKQs0b3eqxeUJbWnhV4G5GFh9tOkufL/dwNPyWqcMTpcTd9CzOxSQDkrAIUZQkYRHlXu0q9qwZ04o5/2uEk40FZ6OT+d+CvUz9+SSJd2VSrni0k5GJZGUrVLG3xM3RytThCFFmScIiBNpJuQOau/PnpPb8z786igIr94fTZd5Ofj1+XSblijzd3z9IdmgWoihJwiLEAyraWfLpgMb88GJLalay5UZyGq+tDmPEd4cIj5dJuSInfcE42aFZiCIlCYsQuQioVYnNE9sysUsdNGozdp6/QdfPdjJ/x38yKVcYOCYTboUoFpKwCJEHS3M1E7vUZfPEtrSuWZG0zGzmbDlHry92c/jKTVOHJ0qA2KRUriemandoru5k6nCEKNMkYRHiMWpVtuOHF1syb0BjKthqOB9zm/4L9xG8/gQJKemmDk+YUNi94aB6LvbYWZqbNhghyjhJWITIB5VKxbP+1flzUnsGNnMHYPXBCDp/upOfwyJlUm45JfVXhCg+krAIYQRnWw2z+zcidEwralexI/5OOhNDjxG05CCX4+6YOjxRzB5cISSEKFqSsAhRAC1rVmTT+La82a0uGnMz9vwXR/eQXXzx5wXSMrNMHZ4oBlnZCievJQKyQkiI4iAJixAFpDE349VOddg2sR1t61QiPTObedvP0/Pz3Ry4FG/q8EQRuxCbzJ30LGw1aupUkR2ahShqkrAI8YS8Ktmy/IUWfD6oCZXsNFy8cYeBi/bz0sojhEmJ/zJLt5zZt7ojajMpGCdEUZOERYhCoFKp6NukGn9O6sCQlh4AbP43mmfm72XAwn1sPx1DdrZMzC1L9AXj3GWHZiGKg6zDE6IQOdpY8NEzvjzf2ovFuy+x8VgkB6/c5OCVm9SqbMuLbWvSz68aVhZqU4cqntD9hMXJpHEIUV5ID4sQRaCeqz1zn2vM7rc7MbZ9Tewtzbl44w6T15+kzey/+frv/0hMkY0VS6vbaZmcv7dDs59MuBWiWBQoYZk/fz41atTAysqKpk2bsnv37jzb7tmzh8DAQCpWrIi1tTXe3t589tlnOdqtW7cOHx8fLC0t8fHxYcOGDQUJTYgSxdXRiuAe9dkb3ImpvepT1dGKuNtpfLL1HK0//pNpv5wi4qbsUVTanLiWQLYCVR2tcHGQHZqFKA5GJyyhoaFMnDiRKVOmEBYWRtu2benRowfh4eG5tre1teXVV19l165dnDlzhqlTpzJ16lQWLVqkb7Nv3z4GDhxIUFAQx48fJygoiAEDBnDgwIGCX5kQJYi9lQWj29Zk59sd+WxgY+q7OZCSnsWyvVfoMHcHr60O0y+RFSWfbHgoRPEzOmGZN28eo0aNYvTo0dSvX5+QkBDc3d1ZsGBBru39/PwYPHgwDRo0wMvLi2HDhtG9e3eDXpmQkBC6du1KcHAw3t7eBAcH07lzZ0JCQgp8YUKURBZqM57xq86m8W1YMaoFbetUIitb4dfj1+nz1R4GL9rP3+diy2TlXGN6ZkeMGIFKpcpxa9CggUG7kJAQ6tWrh7W1Ne7u7rz++uukpqYW9aXIhodCmIBRCUt6ejpHjhyhW7duBse7devG3r1783WOsLAw9u7dS/v27fXH9u3bl+Oc3bt3f+Q509LSSEpKMrgJUVqoVCra1qnMilEt+X18G/o1qYraTMW+S/GM/O4QT4Xs5qfDEaRnlo2doY3tmf3888+JiorS3yIiIqhQoQLPPfecvs2qVauYPHky77//PmfOnGHJkiWEhoYSHBxcpNeiKIqsEBLCBIxKWOLi4sjKysLFxcXguIuLC9HR0Y+8b/Xq1bG0tKRZs2a88sorjB49Wv+76Ohoo885a9YsHB0d9Td3d3djLkWIEqNBVUdCBvmx6+2OjG5TA1uNmnMxyby19gRt5/zFwp0XSUot3RN0je2ZdXR0xNXVVX87fPgwt27dYuTIkfo2+/btIzAwkCFDhuDl5UW3bt0YPHgwhw8fLtJriUpMJTY5DbWZCt9qjkX6WEKI+wo06ValMiySpChKjmMP2717N4cPH2bhwoWEhISwevXqJzpncHAwiYmJ+ltERISRVyFEyVLNyZqpvX3YG9yZd57ypoq9JTFJaXy8+SwBs/5i5m+nuZ5w19RhGq0wemaXLFlCly5d8PT01B9r06YNR44c4eDBgwBcunSJTZs20atXrzzPUxg9s8ce2KHZWiPL04UoLkbVYalUqRJqtTpHz0dsbGyOHpKH1ahRAwBfX19iYmKYNm0agwcPBsDV1dXoc1paWmJpaWlM+EKUCo7WFrzUoRaj2tRg47FIFu++xPmY23y75zLL9l6hT+OqvNi2Jj5VHUwdar48Sc8sQFRUFJs3b+aHH34wOD5o0CBu3LhBmzZtUBSFzMxMXnrpJSZPnpznuWbNmsX06dMLdiH3yIRbIUzDqB4WjUZD06ZN2b59u8Hx7du3ExAQkO/zKIpCWlqa/t+tW7fOcc5t27YZdU4hyhqNuRnPNXNn68R2fDeiOa1qViAzW2FDWCQ9v9hN0JID7L5wo9RM0C1IzyzAsmXLcHJyol+/fgbHd+zYwYcffsj8+fM5evQo69ev57fffuODDz7I81yF0TOrm3DrJxNuhShWRle6nTRpEkFBQTRr1ozWrVuzaNEiwsPDGTduHKD9QIiMjGT58uUAfP3113h4eODt7Q1o67LMnTuX1157TX/OCRMm0K5dO2bPnk3fvn3ZuHEjf/zxB3v27CmMaxSiVFOpVHT0rkJH7yqcuJbAol2X2HQyit0X4th9IQ4fNwfGtKtJr0ZuWKhLXi3IJ+mZVRSFpUuXEhQUhEajMfjdu+++S1BQkH4+nK+vL3fu3GHMmDFMmTIFM7Ocz8WT9sxmZGVzIjIBkIJxQhQ3oxOWgQMHEh8fz4wZM4iKiqJhw4Zs2rRJP7YcFRVlMPM/Ozub4OBgLl++jLm5ObVq1eLjjz9m7Nix+jYBAQGsWbOGqVOn8u6771KrVi1CQ0Np2bJlIVyiEGVHo+pOfDXEn4ibKSzZc5nQQxGcjkpiYugx5mw5ywttajCohQd2liVn140He2afeeYZ/fHt27fTt2/fR953586d/Pfff4waNSrH71JSUnIkJWq1GkVRiqzX6Vx0MqkZ2dhbmVOzkl2RPIYQIncqpbT0Jz9GUlISjo6OJCYm4uBQOsb2hXhSCSnprNx/lWV7rxB3Ox0Aeytzhrb0ZGSgV7FWYX3UezA0NJSgoCAWLlyo75ldvHgxp06dwtPTM0fPrE5QUBAXLlxg//79OR5v2rRpzJs3j0WLFtGyZUv+++8/XnrpJZo2bUpoaOgTx5yblfuvMvXnf2lTuxIrR8sXKiEKQ37fhyXna5gQwmhONhpe7VSH0W1rsiFMO0H30o07LNx5kSV7LtG3STXGtKtJXRd7k8ZpbM8sQGJiIuvWrePzzz/P9ZxTp05FpVIxdepUIiMjqVy5Mn369OHDDz8ssuuQDQ+FMB3pYRGiDMnOVvjzbCyLdl3k0JVb+uMd61VmTLtatKpZIV8TXQuiNL4HjY25y7yd/Bd7m2+HN6OLz6Pn3wgh8kd6WIQoh8zMVHT1caGrjwtHw2+xeNcltpyK5u9zN/j73A0aVXfkxbY16dHQFfMSOEG3JEtKzeDijduALGkWwhQkYRGijPL3cGbBsKZcibvDt3su8dPha5y4lshrq8Oo7mzNqDY1GNjcHRuNfAzkx4mIRBQFqjtbU8lOakAJUdzkK5YQZZxXJVtm9vNl7+ROTOhcB2cbC67dusv0X0/TetZfzN16jhvJaY8/UTl3LEI7xCbzV4QwDUlYhCgnKtpZ8nrXuuyd3JkP+jXEs6INiXcz+Orv/wic/RfB60/wX+xtU4dZYoXpCsZ5yIaHQpiCJCxClDPWGjVBrTz5640OLBjqTxN3J9Izs1l9MIIu83Yy+vvDHLpys9RU0C0Ohjs0O5k0FiHKKxm8FqKcUpup6OHrxlMNXTl89Rbf7LzEH2di9Dc/DyfGtK1JtwauqM2KZmVRaXHt1l3i76RjoVbRoJTs4SREWSMJixDlnEqlorlXBZp7VdAu2d39/+3dX2iT7R3G8SvtbOs0LbbaspLoOis6kQomCnGKe63rKCIKY0ciZe6kL620lB2IHniwg3oqVMUieDSJA626A6UBtVVE6L9gcSDIHC0TKY5pY4Z11nsHWwtd39claep9P3m+H8hBHnJw3flz8Xv+JPmLboz+TWMTb/XtH0b146of6rd7f6JfR0IqW+HPfyce++/RlZ/+qNy3zwFgG6eEAMyrr16ts79q0KOT36j9m3pVrFyhv/79n/r9n/6s6Q//sh3Pmrk/POR0EGAPR1gALFIdLNPvfrlZ3/58o/44PKl/pD+qOvj1fubfNb/YWqMVxQHt2bTWdhTAtxhYAHyvVaU/0G9+Vmc7hnWxjVWKbayyHQPwNU4JAQAA5zGwAAAA5zGwAAAA5zGwAAAA5zGwAAAA5zGwAAAA5zGwAAAA5zGwAAAA5zGwAAAA5zGwAAAA5zGwAAAA5zGwAAAA5zGwAAAA5xXMvzUbYyRJ09PTlpMA/jT32Zv7LHoBvQHYl2l3FMzAkkqlJEnhcNhyEsDfUqmUKioqbMfICL0BuOP/dUfAeGl36As+f/6sV69eKRgMKhAIfO/jpqenFQ6HNTk5qfLy8q+YMP9Yi7sKaT2ZrsUYo1QqpdraWhUVeeNsc6a9IfnzNfUC1uKmbNaSaXcUzBGWoqIihUKhjB9fXl7u+TfEHNbirkJaTyZr8cqRlTnZ9obkv9fUK1iLmzJdSybd4Y3dIAAA4GsMLAAAwHm+G1hKS0t15swZlZaW2o6yZKzFXYW0nkJay1IU0vPAWtzEWr6sYC66BQAAhct3R1gAAID3MLAAAADnMbAAAADnMbAAAADnMbAAAADn+WpguXDhgurq6lRWVqZIJKKHDx/ajpSTwcFBHTp0SLW1tQoEArp586btSDnr7u7Wzp07FQwGVV1drSNHjuj58+e2Y+Xk4sWLamhomP9lx1gspjt37tiOlRfd3d0KBALq7Oy0HcUKusM9dIc35LM7fDOwXLt2TZ2dnTp9+rTGxsa0d+9eNTc3a2Jiwna0rKXTaW3fvl09PT22oyzZwMCA2tra9OTJEyUSCX369ElNTU1Kp9O2o2UtFArp7NmzGh4e1vDwsPbv36/Dhw/r2bNntqMtydDQkHp7e9XQ0GA7ihV0h5voDvflvTuMT+zatcu0trYu2LZlyxZz8uRJS4nyQ5Lp6+uzHSNvpqamjCQzMDBgO0perFmzxly+fNl2jJylUimzadMmk0gkzL59+0xHR4ftSF8d3eENdIdblqM7fHGE5ePHjxoZGVFTU9OC7U1NTXr8+LGlVPgu7969kyRVVlZaTrI0s7OzisfjSqfTisVituPkrK2tTQcPHtSBAwdsR7GC7vAOusMty9EdBfNvzV/y5s0bzc7OqqamZsH2mpoavX792lIq/C9jjLq6urRnzx5t27bNdpycjI+PKxaL6cOHD1q9erX6+vq0detW27FyEo/HNTo6qqGhIdtRrKE7vIHucMtydYcvBpY5gUBgwX1jzKJtsKe9vV1Pnz7Vo0ePbEfJ2ebNm5VMJvX27Vtdv35dLS0tGhgY8FzxTE5OqqOjQ/39/SorK7Mdxzq6w210hzuWszt8MbCsXbtWxcXFi/aIpqamFu05wY4TJ07o9u3bGhwcVCgUsh0nZyUlJaqvr5ckRaNRDQ0N6dy5c7p06ZLlZNkZGRnR1NSUIpHI/LbZ2VkNDg6qp6dHMzMzKi4utpjw66A73Ed3uGU5u8MX17CUlJQoEokokUgs2J5IJLR7925LqSD9Z0+1vb1dN27c0L1791RXV2c7Ul4ZYzQzM2M7RtYaGxs1Pj6uZDI5f4tGozp69KiSyaQvhhWJ7nAZ3eGm5ewOXxxhkaSuri4dO3ZM0WhUsVhMvb29mpiYUGtrq+1oWXv//r1evHgxf//ly5dKJpOqrKzU+vXrLSbLXltbm65evapbt24pGAzO78lWVFRo5cqVltNl59SpU2publY4HFYqlVI8HteDBw909+5d29GyFgwGF10LsGrVKlVVVXn2GoFc0R1uojvctKzdseTvGXnI+fPnzYYNG0xJSYnZsWOHZ7/+dv/+fSNp0a2lpcV2tKx91zokmStXrtiOlrXjx4/Pv7/WrVtnGhsbTX9/v+1YeePXrzUbQ3e4iO7wjnx1R8AYY5Y28gAAACwvX1zDAgAAvI2BBQAAOI+BBQAAOI+BBQAAOI+BBQAAOI+BBQAAOI+BBQAAOI+BBQAAOI+BBQAAOI+BBQAAOI+BBQAAOO/fNblWTSt+l+sAAAAASUVORK5CYII="
     },
     "metadata": {},
     "output_type": "display_data"
    }
   ],
   "execution_count": 43
  },
  {
   "cell_type": "code",
   "metadata": {
    "ExecuteTime": {
     "end_time": "2024-10-24T14:54:37.922855Z",
     "start_time": "2024-10-24T14:54:37.916281Z"
    }
   },
   "source": [
    "running_test_acc_cnn[-1]"
   ],
   "outputs": [
    {
     "data": {
      "text/plain": [
       "0.8738057324840764"
      ]
     },
     "execution_count": 44,
     "metadata": {},
     "output_type": "execute_result"
    }
   ],
   "execution_count": 44
  },
  {
   "cell_type": "markdown",
   "metadata": {
    "id": "wjeMWK8cJkqN"
   },
   "source": [
    "## Resultats\n",
    "\n",
    "Aquí visualitzarem els resultats d'aprenentatge de la xarxa. \n",
    "\n",
    "### Feina a fer:\n",
    "\n",
    "1. Adaptar la sortida del model per un problema multiclasse.\n",
    "2. Emprar una funció de pèrdua adequada per un entorn multiclasse.\n",
    "3. Obtenir l'accuracy en aquest entorn multiclasse.\n",
    "\n",
    "\n",
    "*Subplots*\n",
    "\n",
    "Per fer graelles d'imatges podeu empar la funció `subplots`. Més [informació](https://matplotlib.org/stable/api/_as_gen/matplotlib.pyplot.subplots.html)\n",
    "\n"
   ]
  }
 ],
 "metadata": {
  "accelerator": "GPU",
  "colab": {
   "provenance": []
  },
  "gpuClass": "standard",
  "kernelspec": {
   "display_name": "Python 3 (ipykernel)",
   "language": "python",
   "name": "python3"
  },
  "language_info": {
   "codemirror_mode": {
    "name": "ipython",
    "version": 3
   },
   "file_extension": ".py",
   "mimetype": "text/x-python",
   "name": "python",
   "nbconvert_exporter": "python",
   "pygments_lexer": "ipython3",
   "version": "3.8.19"
  }
 },
 "nbformat": 4,
 "nbformat_minor": 4
}
