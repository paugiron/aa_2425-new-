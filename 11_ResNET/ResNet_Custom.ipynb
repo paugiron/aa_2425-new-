{
 "cells": [
  {
   "metadata": {},
   "cell_type": "markdown",
   "source": [
    "<div style=\"text-align: center;\">\n",
    "<a target=\"_blank\" href=\"https://colab.research.google.com/github/bmalcover/aa_2425/blob/main/11_ResNET/ResNet_Custom.ipynb\">\n",
    "  <img src=\"https://colab.research.google.com/assets/colab-badge.svg\" alt=\"Open In Colab\"/>\n",
    "</a>\n",
    "</div>"
   ],
   "id": "e990e6801202c40d"
  },
  {
   "cell_type": "code",
   "id": "272d21b93244ea6",
   "metadata": {
    "ExecuteTime": {
     "end_time": "2024-11-14T12:29:03.423268Z",
     "start_time": "2024-11-14T12:28:57.306625Z"
    }
   },
   "source": [
    "import os\n",
    "\n",
    "import torch\n",
    "from torch import nn\n",
    "import torch.optim as optim\n",
    "from tqdm.auto import tqdm\n",
    "\n",
    "from torchvision import datasets, models, transforms\n",
    "from torch.utils.data import Dataset, DataLoader\n",
    "from sklearn.model_selection import train_test_split\n",
    "import xml.etree.ElementTree as ET\n",
    "\n",
    "import cv2"
   ],
   "outputs": [],
   "execution_count": 1
  },
  {
   "metadata": {},
   "cell_type": "markdown",
   "source": [
    "# Introducció\n",
    "\n",
    "En aquesta pràctica treballarem amb l'arquitectura ResNet (Residual Network), centrant-nos en el concepte clau dels blocs residuals, que ja hem explorat a classe. Recordem breument la principal innovació d'aquestes: el bloc residual. Aquest introdueix una connexió directa (*shortcut connection*) entre l'entrada i la sortida d'un grup de capes, tal com es representa a continuació:\n",
    "\n",
    "$$\n",
    "\\mathbf{y} = \\mathcal{F}(\\mathbf{x}, \\{W_i\\}) + \\mathbf{x}\n",
    "$$\n",
    "\n",
    "On:\n",
    "- $\\mathbf{x}$ és l'entrada del bloc.\n",
    "- $\\mathcal{F}(\\mathbf{x}, \\{W_i\\})$ és la transformació no lineal aplicada per les capes internes (normalment convolucions, normalització i ReLU).\n",
    "- $\\mathbf{y}$ és la sortida, que combina l'entrada original xx amb la transformació.\n",
    "\n",
    "Aquest simple però efectiu mecanisme permet que el model \"aprengui\" només la diferència (o residual) entre l'entrada i la sortida esperada, en lloc de l'objectiu complet. Això facilita l'entrenament i redueix el risc de degradació del rendiment en xarxes profundes.\n",
    "\n",
    "A classe hem vist que aquests blocs residuals són la base de diferents variants de ResNet, com ara ResNet-18, ResNet-50, etc., amb diferències en la profunditat i el nombre de blocs. Ara posarem en pràctica aquest coneixement treballant amb ResNets per a tasques de classificació d’imatges\n",
    "\n",
    "# Cream mòduls amb Pytorch\n",
    "\n",
    "En aquesta pràctica aprendrem a definir mòduls personalitzats en PyTorch utilitzant la classe base ``torch.nn.Module``. Aquesta classe permet encapsular les capes i operacions d’una xarxa neuronal, facilitant-ne la reutilització i el manteniment.\n",
    "\n",
    "**Pasos per crear un mòdul en Pytorch:**\n",
    "1. **Heretar de nn.Module**. Tots els mòduls personalitzats en PyTorch han de derivar de la classe base torch.nn.Module.\n",
    "2. **Definir les capes en el constructor __init__.** Al constructor del mòdul (__init__), s’han d’inicialitzar les capes que s’utilitzaran, com ara convolucions, capes lineals o funcions d’activació.\n",
    "3. **Implementar la funció forward.** Aquesta funció defineix com flueixen les dades a través del mòdul. Aquí s’apliquen les capes definides al constructor de manera seqüencial o segons sigui necessari.\n",
    "\n",
    "\n",
    "## Cream un bloc residual\n",
    "\n",
    "**Revisar sessió teòrica**\n",
    "\n",
    "El nostre bloc residual tendrà dues capes convolucionals, batch norm i emprarà ReLU."
   ],
   "id": "66a26d98415d24c4"
  },
  {
   "metadata": {},
   "cell_type": "code",
   "outputs": [],
   "execution_count": null,
   "source": [
    "class ResidualBlock(nn.Module):\n",
    "    def __init__(self, in_channels, out_channels) -> None:\n",
    "        super().__init__()\n",
    "        self.conv1 = nn.Conv2d(\n",
    "            in_channels=in_channels,\n",
    "            out_channels=out_channels,\n",
    "            kernel_size=(3, 3),\n",
    "            padding='same',\n",
    "            bias=False\n",
    "        )\n",
    "        self.bn1 = nn.BatchNorm2d(out_channels)\n",
    "        self.relu = nn.ReLU()\n",
    "        \n",
    "        # TODO\n",
    "\n",
    "    def forward(self, x):\n",
    "        x = self.conv1(x)\n",
    "        x = self.bn1(x)\n",
    "        \n",
    "        # TODO\n",
    "\n",
    "        return x"
   ],
   "id": "b6911c9d4317fb96"
  },
  {
   "metadata": {},
   "cell_type": "markdown",
   "source": [
    "## Una VGG16 residual\n",
    "\n",
    "Una vegada el tenim implementat farem dos models:\n",
    "1. Model VGG16 **normal**. Un model com el que vàrem veure la setmana passada sense preentranement.\n",
    "2. Model VGG16 **ampliat**. Heu d'afegir a una VGG16 dos blocs residuals al final de l'extractor de característiques. Per fer-ho s'ha d'emprar la mateixa estratègia que heu vist a les sessions anteriors per fer fine-tunning.\n",
    "\n",
    "Entrena ambdós models amb el conjunt de dades [Fashion MNIST](https://github.com/zalandoresearch/fashion-mnist), i contesta a la següent pregunta:\n",
    "\n",
    "- És el mateix resultat una xarxa que l'altra? Si és així o no diguès per què?"
   ],
   "id": "e3f6ef0442c6868b"
  },
  {
   "metadata": {},
   "cell_type": "code",
   "source": "# TODO",
   "id": "135d69bf892ad11b",
   "outputs": [],
   "execution_count": null
  },
  {
   "metadata": {},
   "cell_type": "code",
   "source": "",
   "id": "c7697fa2e6da352e",
   "outputs": [],
   "execution_count": null
  }
 ],
 "metadata": {
  "kernelspec": {
   "display_name": "Python 3 (ipykernel)",
   "language": "python",
   "name": "python3"
  },
  "language_info": {
   "codemirror_mode": {
    "name": "ipython",
    "version": 3
   },
   "file_extension": ".py",
   "mimetype": "text/x-python",
   "name": "python",
   "nbconvert_exporter": "python",
   "pygments_lexer": "ipython3",
   "version": "3.12.4"
  }
 },
 "nbformat": 4,
 "nbformat_minor": 5
}
